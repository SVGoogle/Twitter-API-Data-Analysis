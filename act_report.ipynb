{
 "cells": [
  {
   "cell_type": "markdown",
   "metadata": {},
   "source": [
    "# Data analysis of Twitter account WeRateDogs\n",
    "\n",
    "If you like dogs, you are at the right place! This post is an introduction to a must-follow Twitter account for every dog-lover out there even if you are not a dog-person like me. It is @dog_rates, also known as [*WeRateDogs*](https://twitter.com/dog_rates?s=20). *WeRateDogs* is a Twitter account that rates people's dogs with a humorous comment about the dog. These ratings almost always have a denominator of 10. The numerators, though? Almost always greater than 10. 11/10, 12/10, 13/10, etc. Why? Because ***\"they're good dogs Brent.\"*** *WeRateDogs* has over 4 million followers and has received international media coverage.\n",
    "\n",
    "So what are some of the insights we can gain? For example, maybe you would like to know which dog breed is the most popular among the dog owners, which is rated the highest and hich dog breed has been retweeted and favorited the most? Let's look at it step by step.\n",
    "\n",
    "Before we dive deeper in, we must know some of the unique vocabulary of the *WeRateDogs* world or in other words ***THE DOGTIONARY***.\n",
    "![Dogtionary](Images/dogtionary-combined.png)\n",
    "\n",
    "Now that we know some cute and petable words for dog development categories, lets check them out more closely. The most popular dog stage is *puppo* and *doggo*. Here are some of the most popular puppo's, doggo's out there.\n",
    "\n",
    "I am definetely a Puppo   |  Am I a Doggo or a Puppo?\n",
    ":------------------------:|:-------------------------:\n",
    "![I am a Puppo](Images/puppo_1_822872901745569793.jpg)  |  ![Am I a Doggo or a Puppo?\"](Images/doggo,puppo_1_855851453814013952.jpg)\n",
    "\n",
    "The most frequent dog breeds submitted for rating are **Golden Retriever**, **Larador Retriever**  and **Pembroke**\n",
    "\n",
    "![Count of Dog Submissions](Images/most_popular_dog_breeds.jpg)\n",
    "\n",
    "The dog breeds with the highest scores from *WeRateDogs* are **Golden Retriever**, **Pembroke** and **Samoyed**.\n",
    "\n",
    "![Count of Dog Breeds](Images/highest_rated_dog_breeds.jpg)\n",
    "\n",
    "Based on the user retweet and favorite count, the **Escimo Dog** and **French Bulldog** breeds have received the highest mean values.\n",
    "\n",
    "I know is is not nice being judged  - even if you are the cutest golden retriever pupper in the world.\n",
    "![Golden Retriever](Images/golden_retriever_1_870374049280663552.jpg)\n"
   ]
  }
 ],
 "metadata": {
  "kernelspec": {
   "display_name": "Python 3",
   "language": "python",
   "name": "python3"
  },
  "language_info": {
   "codemirror_mode": {
    "name": "ipython",
    "version": 3
   },
   "file_extension": ".py",
   "mimetype": "text/x-python",
   "name": "python",
   "nbconvert_exporter": "python",
   "pygments_lexer": "ipython3",
   "version": "3.7.7"
  }
 },
 "nbformat": 4,
 "nbformat_minor": 4
}

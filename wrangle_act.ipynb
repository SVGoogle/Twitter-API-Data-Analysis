{
 "cells": [
  {
   "cell_type": "markdown",
   "metadata": {},
   "source": [
    "# Data analysis of Twitter API data\n",
    "\n",
    "## Table of Contents\n",
    "- [Introduction](#intro)\n",
    "- [Part I - Gathering Data](#gathering)\n",
    "- [Part II - Assessing Data](#assessing)\n",
    "- [Part III - Cleaning Data](#cleaning)\n",
    "- [Part IV - Data analysis](#analysis)"
   ]
  },
  {
   "cell_type": "code",
   "execution_count": 2,
   "metadata": {},
   "outputs": [
    {
     "name": "stderr",
     "output_type": "stream",
     "text": [
      "\n",
      "Bad key \"text.kerning_factor\" on line 4 in\n",
      "c:\\programdata\\anaconda3\\envs\\udacity\\lib\\site-packages\\matplotlib\\mpl-data\\stylelib\\_classic_test_patch.mplstyle.\n",
      "You probably need to get an updated matplotlibrc file from\n",
      "https://github.com/matplotlib/matplotlib/blob/v3.1.3/matplotlibrc.template\n",
      "or from the matplotlib source distribution\n"
     ]
    }
   ],
   "source": [
    "import os\n",
    "import re\n",
    "import pandas as pd\n",
    "import numpy as np\n",
    "import requests\n",
    "import tweepy\n",
    "import json\n",
    "from timeit import default_timer as timer\n",
    "from PIL import Image\n",
    "from io import BytesIO\n",
    "\n",
    "%matplotlib inline"
   ]
  },
  {
   "cell_type": "markdown",
   "metadata": {},
   "source": [
    "<a id='intro'></a>\n",
    "# Introduction\n",
    "The dataset for the wrangling project (and analyzing and visualizing) is the tweet archive of Twitter user *@dog_rates*, also known as *WeRateDogs*. *WeRateDogs* is a Twitter account that rates people's dogs with a humorous comment about the dog. These ratings almost always have a denominator of 10. The numerators, though? Almost always greater than 10. 11/10, 12/10, 13/10, etc. Why? Because \"they're good dogs Brent.\" *WeRateDogs* has over 4 million followers and has received international media coverage.\n",
    "\n",
    "## Project Motivation\n",
    "### Context\n",
    "Goal: wrangle *WeRateDogs* Twitter data to create interesting and trustworthy analyses and visualizations. The Twitter archive is great, but it only contains very basic tweet information. Additional gathering, then assessing and cleaning is required for \"Wow!\"-worthy analyses and visualizations.\n",
    "### Data\n",
    "**Enhanced Twitter Archive**\n",
    "\n",
    "The WeRateDogs Twitter archive contains basic tweet data for all 5000+ of their tweets, but not everything. One column the archive does contain though: each tweet's text, which I used to extract rating, dog name, and dog \"stage\" (i.e. doggo, floofer, pupper, and puppo) to make this Twitter archive \"enhanced.\" Of the 5000+ tweets, I have filtered for tweets with ratings only (there are 2356).\n",
    "I extracted this data programmatically, but I didn't do a very good job. The ratings probably aren't all correct. Same goes for the dog names and probably dog stages (see below for more information on these) too. You'll need to assess and clean these columns if you want to use them for analysis and visualization.\n",
    "\n",
    "## Key points\n",
    "Key points to keep in mind when data wrangling for this project:\n",
    "\n",
    "* You only want original ratings (no retweets) that have images. Though there are 5000+ tweets in the dataset, not all are dog ratings and some are retweets.\n",
    "* Assessing and cleaning the entire dataset completely would require a lot of time, and is not necessary to practice and demonstrate your skills in data wrangling. Therefore, the requirements of this project are only to assess and clean at least 8 quality issues and at least 2 tidiness issues in this dataset.\n",
    "* Cleaning includes merging individual pieces of data according to the rules of tidy data.\n",
    "* The fact that the rating numerators are greater than the denominators does not need to be cleaned. This unique rating system is a big part of the popularity of *WeRateDogs*.\n",
    "* You do not need to gather the tweets beyond August 1st, 2017. You can, but note that you won't be able to gather the image predictions for these tweets since you don't have access to the algorithm used."
   ]
  },
  {
   "cell_type": "markdown",
   "metadata": {},
   "source": [
    "<a id='gathering'></a>\n",
    "# Part I - Gathering Data\n",
    "\n",
    "The relevant data is retrieved by getting each of the three pieces of data as described below:\n",
    "\n",
    "1. The *WeRateDogs* Twitter archive, download this file manually by clicking the following link: [twitter_archive_enhanced.csv](https://d17h27t6h515a5.cloudfront.net/topher/2017/August/59a4e958_twitter-archive-enhanced/twitter-archive-enhanced.csv)\n",
    "\n",
    "2. The tweet image predictions, i.e., what breed of dog (or other object, animal, etc.) is present in each tweet according to a neural network. This file `image_predictions.tsv` is hosted on Udacity's servers.\n",
    "\n",
    "3. Additionaly, each tweet's retweet count and favorite (\"like\") count at minimum is gathered. Using the tweet IDs in the *WeRateDogs* Twitter archive, query the Twitter API for each tweet's JSON data using Python's Tweepy library and store each tweet's entire set of JSON data in a file called `tweet_json.txt` file. Each tweet's JSON data is written to its own line. Then this .txt file is read line by line into a pandas DataFrame."
   ]
  },
  {
   "cell_type": "markdown",
   "metadata": {},
   "source": [
    "## 1. WeRateDogs Twitter archive\n",
    "This table contains an information on the tweets from *WeRateDogs* Twitter archive up to August 1st, 2017."
   ]
  },
  {
   "cell_type": "code",
   "execution_count": 2,
   "metadata": {
    "scrolled": true
   },
   "outputs": [
    {
     "data": {
      "text/html": [
       "<div>\n",
       "<style scoped>\n",
       "    .dataframe tbody tr th:only-of-type {\n",
       "        vertical-align: middle;\n",
       "    }\n",
       "\n",
       "    .dataframe tbody tr th {\n",
       "        vertical-align: top;\n",
       "    }\n",
       "\n",
       "    .dataframe thead th {\n",
       "        text-align: right;\n",
       "    }\n",
       "</style>\n",
       "<table border=\"1\" class=\"dataframe\">\n",
       "  <thead>\n",
       "    <tr style=\"text-align: right;\">\n",
       "      <th></th>\n",
       "      <th>tweet_id</th>\n",
       "      <th>in_reply_to_status_id</th>\n",
       "      <th>in_reply_to_user_id</th>\n",
       "      <th>timestamp</th>\n",
       "      <th>source</th>\n",
       "      <th>text</th>\n",
       "      <th>retweeted_status_id</th>\n",
       "      <th>retweeted_status_user_id</th>\n",
       "      <th>retweeted_status_timestamp</th>\n",
       "      <th>expanded_urls</th>\n",
       "      <th>rating_numerator</th>\n",
       "      <th>rating_denominator</th>\n",
       "      <th>name</th>\n",
       "      <th>doggo</th>\n",
       "      <th>floofer</th>\n",
       "      <th>pupper</th>\n",
       "      <th>puppo</th>\n",
       "    </tr>\n",
       "  </thead>\n",
       "  <tbody>\n",
       "    <tr>\n",
       "      <th>0</th>\n",
       "      <td>892420643555336193</td>\n",
       "      <td>NaN</td>\n",
       "      <td>NaN</td>\n",
       "      <td>2017-08-01 16:23:56 +0000</td>\n",
       "      <td>&lt;a href=\"http://twitter.com/download/iphone\" r...</td>\n",
       "      <td>This is Phineas. He's a mystical boy. Only eve...</td>\n",
       "      <td>NaN</td>\n",
       "      <td>NaN</td>\n",
       "      <td>NaN</td>\n",
       "      <td>https://twitter.com/dog_rates/status/892420643...</td>\n",
       "      <td>13</td>\n",
       "      <td>10</td>\n",
       "      <td>Phineas</td>\n",
       "      <td>None</td>\n",
       "      <td>None</td>\n",
       "      <td>None</td>\n",
       "      <td>None</td>\n",
       "    </tr>\n",
       "    <tr>\n",
       "      <th>1</th>\n",
       "      <td>892177421306343426</td>\n",
       "      <td>NaN</td>\n",
       "      <td>NaN</td>\n",
       "      <td>2017-08-01 00:17:27 +0000</td>\n",
       "      <td>&lt;a href=\"http://twitter.com/download/iphone\" r...</td>\n",
       "      <td>This is Tilly. She's just checking pup on you....</td>\n",
       "      <td>NaN</td>\n",
       "      <td>NaN</td>\n",
       "      <td>NaN</td>\n",
       "      <td>https://twitter.com/dog_rates/status/892177421...</td>\n",
       "      <td>13</td>\n",
       "      <td>10</td>\n",
       "      <td>Tilly</td>\n",
       "      <td>None</td>\n",
       "      <td>None</td>\n",
       "      <td>None</td>\n",
       "      <td>None</td>\n",
       "    </tr>\n",
       "  </tbody>\n",
       "</table>\n",
       "</div>"
      ],
      "text/plain": [
       "             tweet_id  in_reply_to_status_id  in_reply_to_user_id  \\\n",
       "0  892420643555336193                    NaN                  NaN   \n",
       "1  892177421306343426                    NaN                  NaN   \n",
       "\n",
       "                   timestamp  \\\n",
       "0  2017-08-01 16:23:56 +0000   \n",
       "1  2017-08-01 00:17:27 +0000   \n",
       "\n",
       "                                              source  \\\n",
       "0  <a href=\"http://twitter.com/download/iphone\" r...   \n",
       "1  <a href=\"http://twitter.com/download/iphone\" r...   \n",
       "\n",
       "                                                text  retweeted_status_id  \\\n",
       "0  This is Phineas. He's a mystical boy. Only eve...                  NaN   \n",
       "1  This is Tilly. She's just checking pup on you....                  NaN   \n",
       "\n",
       "   retweeted_status_user_id retweeted_status_timestamp  \\\n",
       "0                       NaN                        NaN   \n",
       "1                       NaN                        NaN   \n",
       "\n",
       "                                       expanded_urls  rating_numerator  \\\n",
       "0  https://twitter.com/dog_rates/status/892420643...                13   \n",
       "1  https://twitter.com/dog_rates/status/892177421...                13   \n",
       "\n",
       "   rating_denominator     name doggo floofer pupper puppo  \n",
       "0                  10  Phineas  None    None   None  None  \n",
       "1                  10    Tilly  None    None   None  None  "
      ]
     },
     "execution_count": 2,
     "metadata": {},
     "output_type": "execute_result"
    }
   ],
   "source": [
    "df_archive = pd.read_csv('twitter-archive-enhanced.csv')\n",
    "df_archive.head(2)"
   ]
  },
  {
   "cell_type": "code",
   "execution_count": 3,
   "metadata": {},
   "outputs": [
    {
     "data": {
      "text/plain": [
       "(2356, 17)"
      ]
     },
     "execution_count": 3,
     "metadata": {},
     "output_type": "execute_result"
    }
   ],
   "source": [
    "df_archive.shape"
   ]
  },
  {
   "cell_type": "code",
   "execution_count": 4,
   "metadata": {},
   "outputs": [
    {
     "name": "stdout",
     "output_type": "stream",
     "text": [
      "<class 'pandas.core.frame.DataFrame'>\n",
      "RangeIndex: 2356 entries, 0 to 2355\n",
      "Data columns (total 17 columns):\n",
      " #   Column                      Non-Null Count  Dtype  \n",
      "---  ------                      --------------  -----  \n",
      " 0   tweet_id                    2356 non-null   int64  \n",
      " 1   in_reply_to_status_id       78 non-null     float64\n",
      " 2   in_reply_to_user_id         78 non-null     float64\n",
      " 3   timestamp                   2356 non-null   object \n",
      " 4   source                      2356 non-null   object \n",
      " 5   text                        2356 non-null   object \n",
      " 6   retweeted_status_id         181 non-null    float64\n",
      " 7   retweeted_status_user_id    181 non-null    float64\n",
      " 8   retweeted_status_timestamp  181 non-null    object \n",
      " 9   expanded_urls               2297 non-null   object \n",
      " 10  rating_numerator            2356 non-null   int64  \n",
      " 11  rating_denominator          2356 non-null   int64  \n",
      " 12  name                        2356 non-null   object \n",
      " 13  doggo                       2356 non-null   object \n",
      " 14  floofer                     2356 non-null   object \n",
      " 15  pupper                      2356 non-null   object \n",
      " 16  puppo                       2356 non-null   object \n",
      "dtypes: float64(4), int64(3), object(10)\n",
      "memory usage: 313.0+ KB\n"
     ]
    }
   ],
   "source": [
    "df_archive.info()"
   ]
  },
  {
   "cell_type": "markdown",
   "metadata": {},
   "source": [
    "## 2. Image predictions of a dog breed in the tweet\n",
    "\n",
    "This table contains prediction info, i.e., what breed of dog (or other object, animal, etc.) is present in each tweet.\n",
    "\n",
    "Created according to a neural network, can be downloaded from Udacity's servers."
   ]
  },
  {
   "cell_type": "code",
   "execution_count": 3,
   "metadata": {
    "scrolled": false
   },
   "outputs": [],
   "source": [
    "URL = 'https://d17h27t6h515a5.cloudfront.net/topher/2017/August/599fd2ad_image-predictions/image-predictions.tsv'\n",
    "# Extract file name\n",
    "file_name = URL.split('/')[-1]"
   ]
  },
  {
   "cell_type": "code",
   "execution_count": null,
   "metadata": {},
   "outputs": [],
   "source": [
    "# Save the data\n",
    "r = requests.get(URL)\n",
    "if r.ok:    \n",
    "    with open(file_name, mode='wb') as file:\n",
    "        file.write(r.content)"
   ]
  },
  {
   "cell_type": "code",
   "execution_count": 4,
   "metadata": {},
   "outputs": [
    {
     "data": {
      "text/html": [
       "<div>\n",
       "<style scoped>\n",
       "    .dataframe tbody tr th:only-of-type {\n",
       "        vertical-align: middle;\n",
       "    }\n",
       "\n",
       "    .dataframe tbody tr th {\n",
       "        vertical-align: top;\n",
       "    }\n",
       "\n",
       "    .dataframe thead th {\n",
       "        text-align: right;\n",
       "    }\n",
       "</style>\n",
       "<table border=\"1\" class=\"dataframe\">\n",
       "  <thead>\n",
       "    <tr style=\"text-align: right;\">\n",
       "      <th></th>\n",
       "      <th>tweet_id</th>\n",
       "      <th>jpg_url</th>\n",
       "      <th>img_num</th>\n",
       "      <th>p1</th>\n",
       "      <th>p1_conf</th>\n",
       "      <th>p1_dog</th>\n",
       "      <th>p2</th>\n",
       "      <th>p2_conf</th>\n",
       "      <th>p2_dog</th>\n",
       "      <th>p3</th>\n",
       "      <th>p3_conf</th>\n",
       "      <th>p3_dog</th>\n",
       "    </tr>\n",
       "  </thead>\n",
       "  <tbody>\n",
       "    <tr>\n",
       "      <th>0</th>\n",
       "      <td>666020888022790149</td>\n",
       "      <td>https://pbs.twimg.com/media/CT4udn0WwAA0aMy.jpg</td>\n",
       "      <td>1</td>\n",
       "      <td>Welsh_springer_spaniel</td>\n",
       "      <td>0.465074</td>\n",
       "      <td>True</td>\n",
       "      <td>collie</td>\n",
       "      <td>0.156665</td>\n",
       "      <td>True</td>\n",
       "      <td>Shetland_sheepdog</td>\n",
       "      <td>0.061428</td>\n",
       "      <td>True</td>\n",
       "    </tr>\n",
       "    <tr>\n",
       "      <th>1</th>\n",
       "      <td>666029285002620928</td>\n",
       "      <td>https://pbs.twimg.com/media/CT42GRgUYAA5iDo.jpg</td>\n",
       "      <td>1</td>\n",
       "      <td>redbone</td>\n",
       "      <td>0.506826</td>\n",
       "      <td>True</td>\n",
       "      <td>miniature_pinscher</td>\n",
       "      <td>0.074192</td>\n",
       "      <td>True</td>\n",
       "      <td>Rhodesian_ridgeback</td>\n",
       "      <td>0.072010</td>\n",
       "      <td>True</td>\n",
       "    </tr>\n",
       "  </tbody>\n",
       "</table>\n",
       "</div>"
      ],
      "text/plain": [
       "             tweet_id                                          jpg_url  \\\n",
       "0  666020888022790149  https://pbs.twimg.com/media/CT4udn0WwAA0aMy.jpg   \n",
       "1  666029285002620928  https://pbs.twimg.com/media/CT42GRgUYAA5iDo.jpg   \n",
       "\n",
       "   img_num                      p1   p1_conf  p1_dog                  p2  \\\n",
       "0        1  Welsh_springer_spaniel  0.465074    True              collie   \n",
       "1        1                 redbone  0.506826    True  miniature_pinscher   \n",
       "\n",
       "    p2_conf  p2_dog                   p3   p3_conf  p3_dog  \n",
       "0  0.156665    True    Shetland_sheepdog  0.061428    True  \n",
       "1  0.074192    True  Rhodesian_ridgeback  0.072010    True  "
      ]
     },
     "execution_count": 4,
     "metadata": {},
     "output_type": "execute_result"
    }
   ],
   "source": [
    "# Read the tab separated file\n",
    "df_predictions = pd.read_csv(file_name, sep='\\t')\n",
    "df_predictions.head(2)"
   ]
  },
  {
   "cell_type": "code",
   "execution_count": null,
   "metadata": {},
   "outputs": [],
   "source": [
    "df_predictions.info()"
   ]
  },
  {
   "cell_type": "markdown",
   "metadata": {},
   "source": [
    "## 3. Connecting to Twitter API\n",
    "At this step with help of [Tweepy](http://www.tweepy.org/query) Python library we wil query Twitter's API for additional data beyond the data already included in the WeRateDogs Twitter archive file. This additional data will include retweet count and favorite count.\n",
    "\n",
    "In order to replicate this code cell, one needs to open a Twitter account.\n",
    "\n",
    "[Tweepy API Documentation](http://docs.tweepy.org/en/v3.2.0/api.html#API)"
   ]
  },
  {
   "cell_type": "code",
   "execution_count": null,
   "metadata": {},
   "outputs": [],
   "source": [
    "# Set up the connection to Twitter API (requires Twitter account)\n",
    "consumer_key = os.getenv('TW_CONSUMER_KEY')\n",
    "consumer_secret = os.getenv('TW_CONSUMER_SECRET')\n",
    "\n",
    "access_token = os.getenv('TW_ACCESS_TOKEN')\n",
    "access_secret = os.getenv('TW_ACCESS_SECRET')\n",
    "\n",
    "auth = tweepy.OAuthHandler(consumer_key, consumer_secret)\n",
    "auth.set_access_token(access_token, access_secret)\n",
    "\n",
    "# Note the handling of Twitter rate limit may extend the tweet query time\n",
    "api = tweepy.API(auth, wait_on_rate_limit=True, wait_on_rate_limit_notify=True)"
   ]
  },
  {
   "cell_type": "markdown",
   "metadata": {},
   "source": [
    "### Extract Tweet object data to a text file"
   ]
  },
  {
   "cell_type": "code",
   "execution_count": null,
   "metadata": {
    "scrolled": true
   },
   "outputs": [],
   "source": [
    "# Tweet IDs for which to gather additional data\n",
    "tweet_ids = df_archive.tweet_id.values\n",
    "\n",
    "# Query Twitter's API for JSON data for each tweet ID in the Twitter archive\n",
    "count = 0\n",
    "failed_tweets_dict = {}\n",
    "start = timer()\n",
    "\n",
    "# Save each tweet's returned JSON as a new line in a .txt file\n",
    "with open('tweet_json.txt', 'w') as file:\n",
    "    # This loop will likely take 20-30 minutes to run because of Twitter's rate limit\n",
    "    # Rate limits are divided into 15 minute intervals\n",
    "    for tweet_id in tweet_ids:\n",
    "        count += 1\n",
    "        # print(str(count) + \": \" + str(tweet_id))\n",
    "        try:\n",
    "            tweet = api.get_status(tweet_id, tweet_mode='extended')\n",
    "            # print(\"Success\")\n",
    "            json.dump(tweet._json, file)\n",
    "            file.write('\\n')\n",
    "        except tweepy.TweepError as e:\n",
    "            print(f'Tweet id - {tweet_id} - does not exist anymore.\\n')\n",
    "            failed_tweets_dict[tweet_id] = e\n",
    "            pass\n",
    "end = timer()\n",
    "print(f'Finished. Total execution time: {round((end - start) / 60, 2)} minutes\\n')\n",
    "print(f'Number of missing tweets: {len(failed_tweets_dict.items())}\\n')"
   ]
  },
  {
   "cell_type": "markdown",
   "metadata": {},
   "source": [
    "### Investigate Tweet object data\n",
    "\n",
    "The tweet object data is based on the tweet IDs in the `twitter-archive-enhanced.csv` and stored as a [Tweet JSON Object](https://developer.twitter.com/en/docs/tweets/data-dictionary/overview/intro-to-tweet-json) in a text file."
   ]
  },
  {
   "cell_type": "code",
   "execution_count": null,
   "metadata": {},
   "outputs": [],
   "source": [
    "# Dictionary keys\n",
    "tweet._json.keys()"
   ]
  },
  {
   "cell_type": "code",
   "execution_count": null,
   "metadata": {},
   "outputs": [],
   "source": [
    "# Compare with the columns in the `twitter-archive-enhanced.csv`\n",
    "df_archive.columns"
   ]
  },
  {
   "cell_type": "code",
   "execution_count": null,
   "metadata": {},
   "outputs": [],
   "source": [
    "tweet._json"
   ]
  },
  {
   "cell_type": "code",
   "execution_count": null,
   "metadata": {},
   "outputs": [],
   "source": [
    "tweet._json['full_text'][:139]"
   ]
  },
  {
   "cell_type": "markdown",
   "metadata": {},
   "source": [
    "### Extract the number of Retweets and Favorite count\n",
    "Code programmaticaly to count if a Tweet Object is a retweet and/or reply.\n",
    "\n",
    "#### Load JSON Tweet objects created with Twitter API"
   ]
  },
  {
   "cell_type": "code",
   "execution_count": 5,
   "metadata": {},
   "outputs": [
    {
     "data": {
      "text/html": [
       "<div>\n",
       "<style scoped>\n",
       "    .dataframe tbody tr th:only-of-type {\n",
       "        vertical-align: middle;\n",
       "    }\n",
       "\n",
       "    .dataframe tbody tr th {\n",
       "        vertical-align: top;\n",
       "    }\n",
       "\n",
       "    .dataframe thead th {\n",
       "        text-align: right;\n",
       "    }\n",
       "</style>\n",
       "<table border=\"1\" class=\"dataframe\">\n",
       "  <thead>\n",
       "    <tr style=\"text-align: right;\">\n",
       "      <th></th>\n",
       "      <th>tweet_id</th>\n",
       "      <th>retweet_count</th>\n",
       "      <th>favorite_count</th>\n",
       "    </tr>\n",
       "  </thead>\n",
       "  <tbody>\n",
       "    <tr>\n",
       "      <th>0</th>\n",
       "      <td>892420643555336193</td>\n",
       "      <td>7730</td>\n",
       "      <td>36331</td>\n",
       "    </tr>\n",
       "    <tr>\n",
       "      <th>1</th>\n",
       "      <td>892177421306343426</td>\n",
       "      <td>5725</td>\n",
       "      <td>31313</td>\n",
       "    </tr>\n",
       "    <tr>\n",
       "      <th>2</th>\n",
       "      <td>891815181378084864</td>\n",
       "      <td>3787</td>\n",
       "      <td>23588</td>\n",
       "    </tr>\n",
       "    <tr>\n",
       "      <th>3</th>\n",
       "      <td>891689557279858688</td>\n",
       "      <td>7895</td>\n",
       "      <td>39641</td>\n",
       "    </tr>\n",
       "    <tr>\n",
       "      <th>4</th>\n",
       "      <td>891327558926688256</td>\n",
       "      <td>8515</td>\n",
       "      <td>37841</td>\n",
       "    </tr>\n",
       "  </tbody>\n",
       "</table>\n",
       "</div>"
      ],
      "text/plain": [
       "             tweet_id  retweet_count  favorite_count\n",
       "0  892420643555336193           7730           36331\n",
       "1  892177421306343426           5725           31313\n",
       "2  891815181378084864           3787           23588\n",
       "3  891689557279858688           7895           39641\n",
       "4  891327558926688256           8515           37841"
      ]
     },
     "execution_count": 5,
     "metadata": {},
     "output_type": "execute_result"
    }
   ],
   "source": [
    "# Create a list of tweet IDs dictionaries, retweets and replies\n",
    "dict_list = []\n",
    "retweet_list = [] \n",
    "reply_list = []\n",
    "\n",
    "# Read .txt file as JSON file\n",
    "with open('tweet_json.txt', 'r') as file:    \n",
    "    for i, line in enumerate(file):       \n",
    "        # Convert to Python dictionary\n",
    "        data = json.loads(line)\n",
    "        \n",
    "        # Get tweet IDs if a tweet object is a retweet using regex\n",
    "        if re.search(r'retweeted_status', line):\n",
    "            retweet_list.append(data['id'])\n",
    "        \n",
    "        # Get reply tweet IDs\n",
    "        if data['in_reply_to_status_id']:\n",
    "            reply_list.append(data['id'])\n",
    "            \n",
    "        # Populate tweet dictionary\n",
    "        dict_list.append({'tweet_id': data['id'],\n",
    "                        'retweet_count': data['retweet_count'],\n",
    "                        'favorite_count': data['favorite_count']                        \n",
    "                        })\n",
    "# Create a DataFrame with the the new parameters\n",
    "df_stats = pd.DataFrame(dict_list, columns = ['tweet_id', 'retweet_count', 'favorite_count'])\n",
    "df_stats.head()"
   ]
  },
  {
   "cell_type": "code",
   "execution_count": 7,
   "metadata": {},
   "outputs": [
    {
     "data": {
      "text/plain": [
       "(163, 77)"
      ]
     },
     "execution_count": 7,
     "metadata": {},
     "output_type": "execute_result"
    }
   ],
   "source": [
    "# Number or retweets, number of replies\n",
    "len(retweet_list), len(reply_list)"
   ]
  },
  {
   "cell_type": "code",
   "execution_count": 8,
   "metadata": {},
   "outputs": [
    {
     "data": {
      "text/html": [
       "<div>\n",
       "<style scoped>\n",
       "    .dataframe tbody tr th:only-of-type {\n",
       "        vertical-align: middle;\n",
       "    }\n",
       "\n",
       "    .dataframe tbody tr th {\n",
       "        vertical-align: top;\n",
       "    }\n",
       "\n",
       "    .dataframe thead th {\n",
       "        text-align: right;\n",
       "    }\n",
       "</style>\n",
       "<table border=\"1\" class=\"dataframe\">\n",
       "  <thead>\n",
       "    <tr style=\"text-align: right;\">\n",
       "      <th></th>\n",
       "      <th>tweet_id</th>\n",
       "      <th>text</th>\n",
       "      <th>retweeted_status_id</th>\n",
       "    </tr>\n",
       "  </thead>\n",
       "  <tbody>\n",
       "    <tr>\n",
       "      <th>250</th>\n",
       "      <td>845098359547420673</td>\n",
       "      <td>RT @dog_rates: This is Bungalo. She uses that ...</td>\n",
       "      <td>7.733088e+17</td>\n",
       "    </tr>\n",
       "    <tr>\n",
       "      <th>767</th>\n",
       "      <td>777641927919427584</td>\n",
       "      <td>RT @dog_rates: This is Arnie. He's a Nova Scot...</td>\n",
       "      <td>7.504293e+17</td>\n",
       "    </tr>\n",
       "    <tr>\n",
       "      <th>194</th>\n",
       "      <td>855245323840757760</td>\n",
       "      <td>RT @dog_rates: Meet George. He looks slightly ...</td>\n",
       "      <td>8.421635e+17</td>\n",
       "    </tr>\n",
       "    <tr>\n",
       "      <th>137</th>\n",
       "      <td>866094527597207552</td>\n",
       "      <td>RT @dog_rates: Here's a pupper before and afte...</td>\n",
       "      <td>8.378202e+17</td>\n",
       "    </tr>\n",
       "    <tr>\n",
       "      <th>589</th>\n",
       "      <td>799308762079035393</td>\n",
       "      <td>RT @dog_rates: I WAS SENT THE ACTUAL DOG IN TH...</td>\n",
       "      <td>7.743144e+17</td>\n",
       "    </tr>\n",
       "  </tbody>\n",
       "</table>\n",
       "</div>"
      ],
      "text/plain": [
       "               tweet_id                                               text  \\\n",
       "250  845098359547420673  RT @dog_rates: This is Bungalo. She uses that ...   \n",
       "767  777641927919427584  RT @dog_rates: This is Arnie. He's a Nova Scot...   \n",
       "194  855245323840757760  RT @dog_rates: Meet George. He looks slightly ...   \n",
       "137  866094527597207552  RT @dog_rates: Here's a pupper before and afte...   \n",
       "589  799308762079035393  RT @dog_rates: I WAS SENT THE ACTUAL DOG IN TH...   \n",
       "\n",
       "     retweeted_status_id  \n",
       "250         7.733088e+17  \n",
       "767         7.504293e+17  \n",
       "194         8.421635e+17  \n",
       "137         8.378202e+17  \n",
       "589         7.743144e+17  "
      ]
     },
     "execution_count": 8,
     "metadata": {},
     "output_type": "execute_result"
    }
   ],
   "source": [
    "# Verify retweets in archive file\n",
    "mask_retweets = df_archive.tweet_id.isin(retweet_list)\n",
    "df_archive.loc[mask_retweets, ['tweet_id', 'text', 'retweeted_status_id']].sample(5)"
   ]
  },
  {
   "cell_type": "code",
   "execution_count": 9,
   "metadata": {},
   "outputs": [
    {
     "data": {
      "text/html": [
       "<div>\n",
       "<style scoped>\n",
       "    .dataframe tbody tr th:only-of-type {\n",
       "        vertical-align: middle;\n",
       "    }\n",
       "\n",
       "    .dataframe tbody tr th {\n",
       "        vertical-align: top;\n",
       "    }\n",
       "\n",
       "    .dataframe thead th {\n",
       "        text-align: right;\n",
       "    }\n",
       "</style>\n",
       "<table border=\"1\" class=\"dataframe\">\n",
       "  <thead>\n",
       "    <tr style=\"text-align: right;\">\n",
       "      <th></th>\n",
       "      <th>tweet_id</th>\n",
       "      <th>text</th>\n",
       "      <th>in_reply_to_user_id</th>\n",
       "    </tr>\n",
       "  </thead>\n",
       "  <tbody>\n",
       "    <tr>\n",
       "      <th>1905</th>\n",
       "      <td>674606911342424069</td>\n",
       "      <td>The 13/10 also takes into account this impecca...</td>\n",
       "      <td>4.196984e+09</td>\n",
       "    </tr>\n",
       "    <tr>\n",
       "      <th>346</th>\n",
       "      <td>831926988323639298</td>\n",
       "      <td>@UNC can confirm 12/10</td>\n",
       "      <td>2.068372e+07</td>\n",
       "    </tr>\n",
       "    <tr>\n",
       "      <th>1016</th>\n",
       "      <td>746906459439529985</td>\n",
       "      <td>PUPDATE: can't see any. Even if I could, I cou...</td>\n",
       "      <td>4.196984e+09</td>\n",
       "    </tr>\n",
       "    <tr>\n",
       "      <th>274</th>\n",
       "      <td>840698636975636481</td>\n",
       "      <td>@0_kelvin_0 &amp;gt;10/10 is reserved for puppos s...</td>\n",
       "      <td>8.405479e+17</td>\n",
       "    </tr>\n",
       "    <tr>\n",
       "      <th>1479</th>\n",
       "      <td>693582294167244802</td>\n",
       "      <td>Personally I'd give him an 11/10. Not sure why...</td>\n",
       "      <td>1.198989e+09</td>\n",
       "    </tr>\n",
       "  </tbody>\n",
       "</table>\n",
       "</div>"
      ],
      "text/plain": [
       "                tweet_id                                               text  \\\n",
       "1905  674606911342424069  The 13/10 also takes into account this impecca...   \n",
       "346   831926988323639298                             @UNC can confirm 12/10   \n",
       "1016  746906459439529985  PUPDATE: can't see any. Even if I could, I cou...   \n",
       "274   840698636975636481  @0_kelvin_0 &gt;10/10 is reserved for puppos s...   \n",
       "1479  693582294167244802  Personally I'd give him an 11/10. Not sure why...   \n",
       "\n",
       "      in_reply_to_user_id  \n",
       "1905         4.196984e+09  \n",
       "346          2.068372e+07  \n",
       "1016         4.196984e+09  \n",
       "274          8.405479e+17  \n",
       "1479         1.198989e+09  "
      ]
     },
     "execution_count": 9,
     "metadata": {},
     "output_type": "execute_result"
    }
   ],
   "source": [
    "# Verify replies in archive file\n",
    "mask_retweets = df_archive.tweet_id.isin(reply_list)\n",
    "df_archive.loc[mask_retweets, ['tweet_id', 'text', 'in_reply_to_user_id']].sample(5)"
   ]
  },
  {
   "cell_type": "code",
   "execution_count": 29,
   "metadata": {},
   "outputs": [
    {
     "data": {
      "text/plain": [
       "{'created_at': 'Sun Nov 15 22:32:08 +0000 2015',\n",
       " 'id': 666020888022790149,\n",
       " 'id_str': '666020888022790149',\n",
       " 'full_text': 'Here we have a Japanese Irish Setter. Lost eye in Vietnam (?). Big fan of relaxing on stair. 8/10 would pet https://t.co/BLDqew2Ijj',\n",
       " 'truncated': False,\n",
       " 'display_text_range': [0, 131],\n",
       " 'entities': {'hashtags': [],\n",
       "  'symbols': [],\n",
       "  'user_mentions': [],\n",
       "  'urls': [],\n",
       "  'media': [{'id': 666020881337073664,\n",
       "    'id_str': '666020881337073664',\n",
       "    'indices': [108, 131],\n",
       "    'media_url': 'http://pbs.twimg.com/media/CT4udn0WwAA0aMy.jpg',\n",
       "    'media_url_https': 'https://pbs.twimg.com/media/CT4udn0WwAA0aMy.jpg',\n",
       "    'url': 'https://t.co/BLDqew2Ijj',\n",
       "    'display_url': 'pic.twitter.com/BLDqew2Ijj',\n",
       "    'expanded_url': 'https://twitter.com/dog_rates/status/666020888022790149/photo/1',\n",
       "    'type': 'photo',\n",
       "    'sizes': {'medium': {'w': 960, 'h': 720, 'resize': 'fit'},\n",
       "     'thumb': {'w': 150, 'h': 150, 'resize': 'crop'},\n",
       "     'large': {'w': 960, 'h': 720, 'resize': 'fit'},\n",
       "     'small': {'w': 680, 'h': 510, 'resize': 'fit'}}}]},\n",
       " 'extended_entities': {'media': [{'id': 666020881337073664,\n",
       "    'id_str': '666020881337073664',\n",
       "    'indices': [108, 131],\n",
       "    'media_url': 'http://pbs.twimg.com/media/CT4udn0WwAA0aMy.jpg',\n",
       "    'media_url_https': 'https://pbs.twimg.com/media/CT4udn0WwAA0aMy.jpg',\n",
       "    'url': 'https://t.co/BLDqew2Ijj',\n",
       "    'display_url': 'pic.twitter.com/BLDqew2Ijj',\n",
       "    'expanded_url': 'https://twitter.com/dog_rates/status/666020888022790149/photo/1',\n",
       "    'type': 'photo',\n",
       "    'sizes': {'medium': {'w': 960, 'h': 720, 'resize': 'fit'},\n",
       "     'thumb': {'w': 150, 'h': 150, 'resize': 'crop'},\n",
       "     'large': {'w': 960, 'h': 720, 'resize': 'fit'},\n",
       "     'small': {'w': 680, 'h': 510, 'resize': 'fit'}}}]},\n",
       " 'source': '<a href=\"http://twitter.com/download/iphone\" rel=\"nofollow\">Twitter for iPhone</a>',\n",
       " 'in_reply_to_status_id': None,\n",
       " 'in_reply_to_status_id_str': None,\n",
       " 'in_reply_to_user_id': None,\n",
       " 'in_reply_to_user_id_str': None,\n",
       " 'in_reply_to_screen_name': None,\n",
       " 'user': {'id': 4196983835,\n",
       "  'id_str': '4196983835',\n",
       "  'name': 'WeRateDogs®',\n",
       "  'screen_name': 'dog_rates',\n",
       "  'location': '「 DM YOUR DOGS 」',\n",
       "  'description': 'Your Only Source For Professional Dog Ratings Instagram and Facebook ➪ WeRateDogs partnerships@weratedogs.com ⠀⠀⠀⠀⠀⠀⠀⠀⠀⠀⠀⠀',\n",
       "  'url': 'https://t.co/N7sNNHAEXS',\n",
       "  'entities': {'url': {'urls': [{'url': 'https://t.co/N7sNNHAEXS',\n",
       "      'expanded_url': 'http://weratedogs.com',\n",
       "      'display_url': 'weratedogs.com',\n",
       "      'indices': [0, 23]}]},\n",
       "   'description': {'urls': []}},\n",
       "  'protected': False,\n",
       "  'followers_count': 8769747,\n",
       "  'friends_count': 15,\n",
       "  'listed_count': 7260,\n",
       "  'created_at': 'Sun Nov 15 21:41:29 +0000 2015',\n",
       "  'favourites_count': 145933,\n",
       "  'utc_offset': None,\n",
       "  'time_zone': None,\n",
       "  'geo_enabled': True,\n",
       "  'verified': True,\n",
       "  'statuses_count': 12082,\n",
       "  'lang': None,\n",
       "  'contributors_enabled': False,\n",
       "  'is_translator': False,\n",
       "  'is_translation_enabled': False,\n",
       "  'profile_background_color': '000000',\n",
       "  'profile_background_image_url': 'http://abs.twimg.com/images/themes/theme1/bg.png',\n",
       "  'profile_background_image_url_https': 'https://abs.twimg.com/images/themes/theme1/bg.png',\n",
       "  'profile_background_tile': False,\n",
       "  'profile_image_url': 'http://pbs.twimg.com/profile_images/1218319284557905920/ntuD-LOA_normal.jpg',\n",
       "  'profile_image_url_https': 'https://pbs.twimg.com/profile_images/1218319284557905920/ntuD-LOA_normal.jpg',\n",
       "  'profile_banner_url': 'https://pbs.twimg.com/profile_banners/4196983835/1586206146',\n",
       "  'profile_link_color': 'F5ABB5',\n",
       "  'profile_sidebar_border_color': '000000',\n",
       "  'profile_sidebar_fill_color': '000000',\n",
       "  'profile_text_color': '000000',\n",
       "  'profile_use_background_image': False,\n",
       "  'has_extended_profile': False,\n",
       "  'default_profile': False,\n",
       "  'default_profile_image': False,\n",
       "  'following': False,\n",
       "  'follow_request_sent': False,\n",
       "  'notifications': False,\n",
       "  'translator_type': 'none'},\n",
       " 'geo': None,\n",
       " 'coordinates': None,\n",
       " 'place': None,\n",
       " 'contributors': None,\n",
       " 'is_quote_status': False,\n",
       " 'retweet_count': 463,\n",
       " 'favorite_count': 2423,\n",
       " 'favorited': False,\n",
       " 'retweeted': False,\n",
       " 'possibly_sensitive': False,\n",
       " 'possibly_sensitive_appealable': False,\n",
       " 'lang': 'en'}"
      ]
     },
     "execution_count": 29,
     "metadata": {},
     "output_type": "execute_result"
    }
   ],
   "source": [
    "data"
   ]
  },
  {
   "cell_type": "markdown",
   "metadata": {},
   "source": [
    "<a id='assessing'></a>\n",
    "# Part II - Assessing Data\n",
    "\n",
    "After gathering each of the above pieces of data, they are assessed visually and programmatically for quality and tidiness issues. Detect and document at least:\n",
    "    * (8) quality issues,\n",
    "    * (2) tidiness issues.\n",
    "    \n",
    "To meet specifications, the issues that satisfy the Project Motivation (see the Key Points header in [Introduction](#intro)) must be assessed."
   ]
  },
  {
   "cell_type": "markdown",
   "metadata": {},
   "source": [
    "## Quality assessment summary\n",
    "In `df_archive`:\n",
    "> 1. Columns `'doggo', 'floofer', 'pupper', 'puppo'` show that they have no missing values, however it is clear that 'None' in these columns are actual missing values that are not read in correctly by software. \n",
    "    * Furthermore, there are also a lot of values that are not register for any the dog stage category (all with 'None'), this means that the dog stage is also not categorized or mentioned in the tweet.\n",
    "    * And some observations have two different dog stages registered\n",
    "    * Columns `'doggo', 'floofer', 'pupper', 'puppo'` are of *object* type, could be converted to *category* type. However due to that there two dog stages in one observations, it will be kept as a string.\n",
    "\n",
    "> 2. Columns like `'tweet_id', 'in_reply_to_status_id', 'in_reply_to_user_id', 'retweeted_status_id'`are of *float64* or *int* type, must be converted to str type to be as no mathematical operations are not expected to perform. The same must be done for `'tweet_id'` in other DataFrames.\n",
    "\n",
    "> 3. Column `'timestamp'` is of *object* type, must be converted to *datetime* type. Furthermore, these dates are formatted differently than the `'created_at'` time data from Tweet Object.\n",
    "\n",
    "> 4. Validity issues with numerator and denominator data - some values are not extracted properly according to the rating system. Also both must be coverted to *float* type\n",
    "\n",
    "In `df_predictions` and `df_stats`:\n",
    "> 6. Number of rows in predictions and archive data don't match:\n",
    "    * There are some replies or retweets \n",
    "    * Also there are also some tweets without the dog rating\n",
    "    * Some tweets are expired and must be removed\n",
    "     \n",
    "> 7. Drop redundant columns like:\n",
    "    * `'source'` which just shows the utility used to post the Tweet. For example, Tweets from the Twitter website have a source value of web.\n",
    "    * `'in_reply_to_status_id', 'in_reply_to_user_id', 'retweeted_status_id', 'retweeted_status_user_id', 'retweeted_status_timestamp' ` after filtering out the retweet and reply tweets\n",
    "    \n",
    "> 8. Filter the `df_predictions` and add only correct and highest predictions to the master file `df_master`\n",
    "    * Correct dog prediction label formatting\n",
    "    \n",
    "    \n",
    "\n",
    "**Additional comments** \n",
    "\n",
    "> Consistency of column names with the [Tweet Object](https://developer.twitter.com/en/docs/tweets/data-dictionary/overview/tweet-object) attribute names in Tweet Data Dictionary. This may lead to confusion if someone else wants to extend the existing dataset. Rename the columns according to Tweet Object atributes:`'timestamp'` to `'created_at'` or with `'text'`  and `'full_text'`. However it is not implement in this exercise. "
   ]
  },
  {
   "cell_type": "markdown",
   "metadata": {},
   "source": [
    "## Tidiness assessment summary\n",
    "\n",
    "1. In `df_archive` there are separate columns `'doggo', 'floofer', 'pupper', 'puppo'` that are one variable and must be melted together into a one column called 'dog_stage'\n",
    "\n",
    "2. Merge into one dataset : Add the new retweet and favorite data from `df_stats` , valid predictions from `df_predictions` to twitter archive data in `df_archive` and create one master file `df_master` and store as `twitter-archive-master.csv`."
   ]
  },
  {
   "cell_type": "markdown",
   "metadata": {},
   "source": [
    "### Quality: Different number of observations"
   ]
  },
  {
   "cell_type": "code",
   "execution_count": 30,
   "metadata": {},
   "outputs": [
    {
     "data": {
      "text/plain": [
       "(2356, 2075, 2331)"
      ]
     },
     "execution_count": 30,
     "metadata": {},
     "output_type": "execute_result"
    }
   ],
   "source": [
    "# Number of tweets dont match\n",
    "df_archive.shape[0], df_predictions.shape[0], df_stats.shape[0]"
   ]
  },
  {
   "cell_type": "code",
   "execution_count": 31,
   "metadata": {},
   "outputs": [
    {
     "data": {
      "text/plain": [
       "25"
      ]
     },
     "execution_count": 31,
     "metadata": {},
     "output_type": "execute_result"
    }
   ],
   "source": [
    "# Number of missing tweets\n",
    "df_archive.shape[0] - df_stats.shape[0]"
   ]
  },
  {
   "cell_type": "markdown",
   "metadata": {},
   "source": [
    "### Quality: Validity of the rating system data"
   ]
  },
  {
   "cell_type": "code",
   "execution_count": null,
   "metadata": {},
   "outputs": [],
   "source": [
    "# Validity issues with numerator and denominator data\n",
    "df_archive.rating_denominator.value_counts()"
   ]
  },
  {
   "cell_type": "code",
   "execution_count": null,
   "metadata": {},
   "outputs": [],
   "source": [
    "df_archive.rating_numerator.value_counts()"
   ]
  },
  {
   "cell_type": "markdown",
   "metadata": {},
   "source": [
    "### Quality: Missing values and appropriate data types"
   ]
  },
  {
   "cell_type": "code",
   "execution_count": null,
   "metadata": {
    "scrolled": true
   },
   "outputs": [],
   "source": [
    "df_archive.sample(3, random_state=42)"
   ]
  },
  {
   "cell_type": "code",
   "execution_count": null,
   "metadata": {},
   "outputs": [],
   "source": [
    "df_archive.info()"
   ]
  },
  {
   "cell_type": "markdown",
   "metadata": {},
   "source": [
    "### Quality: Datetime columns"
   ]
  },
  {
   "cell_type": "code",
   "execution_count": 33,
   "metadata": {},
   "outputs": [
    {
     "data": {
      "text/plain": [
       "'2017-08-01 16:23:56 +0000'"
      ]
     },
     "execution_count": 33,
     "metadata": {},
     "output_type": "execute_result"
    }
   ],
   "source": [
    "# Date format from archive\n",
    "df_archive.timestamp[0]"
   ]
  },
  {
   "cell_type": "code",
   "execution_count": 32,
   "metadata": {},
   "outputs": [
    {
     "data": {
      "text/plain": [
       "'Sun Nov 15 22:32:08 +0000 2015'"
      ]
     },
     "execution_count": 32,
     "metadata": {},
     "output_type": "execute_result"
    }
   ],
   "source": [
    "# Date format from Tweet object is different (only relevant if we keep this info)\n",
    "data['created_at']"
   ]
  },
  {
   "cell_type": "markdown",
   "metadata": {},
   "source": [
    "### Tiddiness:  Dog stage columns"
   ]
  },
  {
   "cell_type": "code",
   "execution_count": null,
   "metadata": {},
   "outputs": [],
   "source": [
    "# Check the unique values in dog stage columns\n",
    "dog_stage_columns = ['doggo', 'floofer', 'pupper', 'puppo']\n",
    "\n",
    "for col in dog_stage_columns:\n",
    "    print(df_archive[col].unique())"
   ]
  },
  {
   "cell_type": "code",
   "execution_count": null,
   "metadata": {},
   "outputs": [],
   "source": [
    "# Some of the dog stage columns have two values for the same observation\n",
    "index_list = list()\n",
    "for index, row in df_clean[dog_stage_columns].iterrows():\n",
    "    if row.nunique() > 1:\n",
    "        print(row.values)\n",
    "        # Collect indices with multiple dog stages\n",
    "        index_list.append(index)"
   ]
  },
  {
   "cell_type": "code",
   "execution_count": null,
   "metadata": {},
   "outputs": [],
   "source": [
    "index_list"
   ]
  },
  {
   "cell_type": "code",
   "execution_count": null,
   "metadata": {},
   "outputs": [],
   "source": [
    "pd.options.display.max_colwidth = 100\n",
    "# Investigate tweet text extraction with Two stages \n",
    "df_clean.loc[index_list, dog_stage_columns + ['text']]"
   ]
  },
  {
   "cell_type": "markdown",
   "metadata": {},
   "source": [
    "### Quality: Predictions table"
   ]
  },
  {
   "cell_type": "code",
   "execution_count": 10,
   "metadata": {},
   "outputs": [
    {
     "data": {
      "text/html": [
       "<div>\n",
       "<style scoped>\n",
       "    .dataframe tbody tr th:only-of-type {\n",
       "        vertical-align: middle;\n",
       "    }\n",
       "\n",
       "    .dataframe tbody tr th {\n",
       "        vertical-align: top;\n",
       "    }\n",
       "\n",
       "    .dataframe thead th {\n",
       "        text-align: right;\n",
       "    }\n",
       "</style>\n",
       "<table border=\"1\" class=\"dataframe\">\n",
       "  <thead>\n",
       "    <tr style=\"text-align: right;\">\n",
       "      <th></th>\n",
       "      <th>tweet_id</th>\n",
       "      <th>jpg_url</th>\n",
       "      <th>img_num</th>\n",
       "      <th>p1</th>\n",
       "      <th>p1_conf</th>\n",
       "      <th>p1_dog</th>\n",
       "      <th>p2</th>\n",
       "      <th>p2_conf</th>\n",
       "      <th>p2_dog</th>\n",
       "      <th>p3</th>\n",
       "      <th>p3_conf</th>\n",
       "      <th>p3_dog</th>\n",
       "    </tr>\n",
       "  </thead>\n",
       "  <tbody>\n",
       "    <tr>\n",
       "      <th>0</th>\n",
       "      <td>666020888022790149</td>\n",
       "      <td>https://pbs.twimg.com/media/CT4udn0WwAA0aMy.jpg</td>\n",
       "      <td>1</td>\n",
       "      <td>Welsh_springer_spaniel</td>\n",
       "      <td>0.465074</td>\n",
       "      <td>True</td>\n",
       "      <td>collie</td>\n",
       "      <td>0.156665</td>\n",
       "      <td>True</td>\n",
       "      <td>Shetland_sheepdog</td>\n",
       "      <td>0.061428</td>\n",
       "      <td>True</td>\n",
       "    </tr>\n",
       "    <tr>\n",
       "      <th>1</th>\n",
       "      <td>666029285002620928</td>\n",
       "      <td>https://pbs.twimg.com/media/CT42GRgUYAA5iDo.jpg</td>\n",
       "      <td>1</td>\n",
       "      <td>redbone</td>\n",
       "      <td>0.506826</td>\n",
       "      <td>True</td>\n",
       "      <td>miniature_pinscher</td>\n",
       "      <td>0.074192</td>\n",
       "      <td>True</td>\n",
       "      <td>Rhodesian_ridgeback</td>\n",
       "      <td>0.072010</td>\n",
       "      <td>True</td>\n",
       "    </tr>\n",
       "  </tbody>\n",
       "</table>\n",
       "</div>"
      ],
      "text/plain": [
       "             tweet_id                                          jpg_url  \\\n",
       "0  666020888022790149  https://pbs.twimg.com/media/CT4udn0WwAA0aMy.jpg   \n",
       "1  666029285002620928  https://pbs.twimg.com/media/CT42GRgUYAA5iDo.jpg   \n",
       "\n",
       "   img_num                      p1   p1_conf  p1_dog                  p2  \\\n",
       "0        1  Welsh_springer_spaniel  0.465074    True              collie   \n",
       "1        1                 redbone  0.506826    True  miniature_pinscher   \n",
       "\n",
       "    p2_conf  p2_dog                   p3   p3_conf  p3_dog  \n",
       "0  0.156665    True    Shetland_sheepdog  0.061428    True  \n",
       "1  0.074192    True  Rhodesian_ridgeback  0.072010    True  "
      ]
     },
     "execution_count": 10,
     "metadata": {},
     "output_type": "execute_result"
    }
   ],
   "source": [
    "df_predictions.head(2)"
   ]
  },
  {
   "cell_type": "code",
   "execution_count": 9,
   "metadata": {},
   "outputs": [
    {
     "name": "stdout",
     "output_type": "stream",
     "text": [
      "<class 'pandas.core.frame.DataFrame'>\n",
      "RangeIndex: 2075 entries, 0 to 2074\n",
      "Data columns (total 12 columns):\n",
      " #   Column    Non-Null Count  Dtype  \n",
      "---  ------    --------------  -----  \n",
      " 0   tweet_id  2075 non-null   int64  \n",
      " 1   jpg_url   2075 non-null   object \n",
      " 2   img_num   2075 non-null   int64  \n",
      " 3   p1        2075 non-null   object \n",
      " 4   p1_conf   2075 non-null   float64\n",
      " 5   p1_dog    2075 non-null   bool   \n",
      " 6   p2        2075 non-null   object \n",
      " 7   p2_conf   2075 non-null   float64\n",
      " 8   p2_dog    2075 non-null   bool   \n",
      " 9   p3        2075 non-null   object \n",
      " 10  p3_conf   2075 non-null   float64\n",
      " 11  p3_dog    2075 non-null   bool   \n",
      "dtypes: bool(3), float64(3), int64(2), object(4)\n",
      "memory usage: 152.1+ KB\n"
     ]
    }
   ],
   "source": [
    "df_predictions.info()"
   ]
  },
  {
   "cell_type": "code",
   "execution_count": 20,
   "metadata": {},
   "outputs": [
    {
     "data": {
      "text/html": [
       "<div>\n",
       "<style scoped>\n",
       "    .dataframe tbody tr th:only-of-type {\n",
       "        vertical-align: middle;\n",
       "    }\n",
       "\n",
       "    .dataframe tbody tr th {\n",
       "        vertical-align: top;\n",
       "    }\n",
       "\n",
       "    .dataframe thead th {\n",
       "        text-align: right;\n",
       "    }\n",
       "</style>\n",
       "<table border=\"1\" class=\"dataframe\">\n",
       "  <thead>\n",
       "    <tr style=\"text-align: right;\">\n",
       "      <th></th>\n",
       "      <th>p1_dog</th>\n",
       "      <th>count</th>\n",
       "      <th>min</th>\n",
       "      <th>mean</th>\n",
       "      <th>max</th>\n",
       "    </tr>\n",
       "  </thead>\n",
       "  <tbody>\n",
       "    <tr>\n",
       "      <th>0</th>\n",
       "      <td>False</td>\n",
       "      <td>543</td>\n",
       "      <td>0.059033</td>\n",
       "      <td>0.540167</td>\n",
       "      <td>1.000000</td>\n",
       "    </tr>\n",
       "    <tr>\n",
       "      <th>1</th>\n",
       "      <td>True</td>\n",
       "      <td>1532</td>\n",
       "      <td>0.044333</td>\n",
       "      <td>0.613823</td>\n",
       "      <td>0.999956</td>\n",
       "    </tr>\n",
       "  </tbody>\n",
       "</table>\n",
       "</div>"
      ],
      "text/plain": [
       "   p1_dog  count       min      mean       max\n",
       "0   False    543  0.059033  0.540167  1.000000\n",
       "1    True   1532  0.044333  0.613823  0.999956"
      ]
     },
     "execution_count": 20,
     "metadata": {},
     "output_type": "execute_result"
    }
   ],
   "source": [
    "# Check for correct dog predictions\n",
    "df_predictions.groupby('p1_dog').agg(['count', 'min', 'mean', 'max'])['p1_conf'].reset_index()"
   ]
  },
  {
   "cell_type": "code",
   "execution_count": 21,
   "metadata": {},
   "outputs": [
    {
     "data": {
      "text/html": [
       "<div>\n",
       "<style scoped>\n",
       "    .dataframe tbody tr th:only-of-type {\n",
       "        vertical-align: middle;\n",
       "    }\n",
       "\n",
       "    .dataframe tbody tr th {\n",
       "        vertical-align: top;\n",
       "    }\n",
       "\n",
       "    .dataframe thead th {\n",
       "        text-align: right;\n",
       "    }\n",
       "</style>\n",
       "<table border=\"1\" class=\"dataframe\">\n",
       "  <thead>\n",
       "    <tr style=\"text-align: right;\">\n",
       "      <th></th>\n",
       "      <th>p2_dog</th>\n",
       "      <th>count</th>\n",
       "      <th>min</th>\n",
       "      <th>mean</th>\n",
       "      <th>max</th>\n",
       "    </tr>\n",
       "  </thead>\n",
       "  <tbody>\n",
       "    <tr>\n",
       "      <th>0</th>\n",
       "      <td>False</td>\n",
       "      <td>522</td>\n",
       "      <td>1.011300e-08</td>\n",
       "      <td>0.11709</td>\n",
       "      <td>0.488014</td>\n",
       "    </tr>\n",
       "    <tr>\n",
       "      <th>1</th>\n",
       "      <td>True</td>\n",
       "      <td>1553</td>\n",
       "      <td>1.002880e-05</td>\n",
       "      <td>0.14047</td>\n",
       "      <td>0.467678</td>\n",
       "    </tr>\n",
       "  </tbody>\n",
       "</table>\n",
       "</div>"
      ],
      "text/plain": [
       "   p2_dog  count           min     mean       max\n",
       "0   False    522  1.011300e-08  0.11709  0.488014\n",
       "1    True   1553  1.002880e-05  0.14047  0.467678"
      ]
     },
     "execution_count": 21,
     "metadata": {},
     "output_type": "execute_result"
    }
   ],
   "source": [
    "df_predictions.groupby('p2_dog').agg(['count', 'min', 'mean', 'max'])['p2_conf'].reset_index()"
   ]
  },
  {
   "cell_type": "code",
   "execution_count": 22,
   "metadata": {},
   "outputs": [
    {
     "data": {
      "text/html": [
       "<div>\n",
       "<style scoped>\n",
       "    .dataframe tbody tr th:only-of-type {\n",
       "        vertical-align: middle;\n",
       "    }\n",
       "\n",
       "    .dataframe tbody tr th {\n",
       "        vertical-align: top;\n",
       "    }\n",
       "\n",
       "    .dataframe thead th {\n",
       "        text-align: right;\n",
       "    }\n",
       "</style>\n",
       "<table border=\"1\" class=\"dataframe\">\n",
       "  <thead>\n",
       "    <tr style=\"text-align: right;\">\n",
       "      <th></th>\n",
       "      <th>p3_dog</th>\n",
       "      <th>count</th>\n",
       "      <th>min</th>\n",
       "      <th>mean</th>\n",
       "      <th>max</th>\n",
       "    </tr>\n",
       "  </thead>\n",
       "  <tbody>\n",
       "    <tr>\n",
       "      <th>0</th>\n",
       "      <td>False</td>\n",
       "      <td>576</td>\n",
       "      <td>1.740170e-10</td>\n",
       "      <td>0.056893</td>\n",
       "      <td>0.255182</td>\n",
       "    </tr>\n",
       "    <tr>\n",
       "      <th>1</th>\n",
       "      <td>True</td>\n",
       "      <td>1499</td>\n",
       "      <td>1.434470e-06</td>\n",
       "      <td>0.061642</td>\n",
       "      <td>0.273419</td>\n",
       "    </tr>\n",
       "  </tbody>\n",
       "</table>\n",
       "</div>"
      ],
      "text/plain": [
       "   p3_dog  count           min      mean       max\n",
       "0   False    576  1.740170e-10  0.056893  0.255182\n",
       "1    True   1499  1.434470e-06  0.061642  0.273419"
      ]
     },
     "execution_count": 22,
     "metadata": {},
     "output_type": "execute_result"
    }
   ],
   "source": [
    "df_predictions.groupby('p3_dog').agg(['count', 'min', 'mean', 'max'])['p3_conf'].reset_index()"
   ]
  },
  {
   "cell_type": "code",
   "execution_count": 14,
   "metadata": {},
   "outputs": [
    {
     "data": {
      "text/plain": [
       "golden_retriever      150\n",
       "Labrador_retriever    100\n",
       "Pembroke               89\n",
       "Chihuahua              83\n",
       "pug                    57\n",
       "chow                   44\n",
       "Samoyed                43\n",
       "toy_poodle             39\n",
       "Pomeranian             38\n",
       "malamute               30\n",
       "Name: p1, dtype: int64"
      ]
     },
     "execution_count": 14,
     "metadata": {},
     "output_type": "execute_result"
    }
   ],
   "source": [
    "# Print Top 10 predicted dogs labels\n",
    "is_dog = df_predictions['p1_dog'] == True\n",
    "df_predictions.loc[is_dog, 'p1'].value_counts().head(10)"
   ]
  },
  {
   "cell_type": "code",
   "execution_count": null,
   "metadata": {},
   "outputs": [],
   "source": [
    "# Check for duplicates tweets\n",
    "df_predictions.tweet_id.duplicated().sum(), df_archive.tweet_id.duplicated().sum()"
   ]
  },
  {
   "cell_type": "code",
   "execution_count": 24,
   "metadata": {},
   "outputs": [
    {
     "data": {
      "text/plain": [
       "(2356,)"
      ]
     },
     "execution_count": 24,
     "metadata": {},
     "output_type": "execute_result"
    }
   ],
   "source": [
    "# Check if predictions contain information on the same tweets\n",
    "df_predictions[['tweet_id']].append(df_archive[['tweet_id']]).tweet_id.unique().shape"
   ]
  },
  {
   "cell_type": "code",
   "execution_count": 166,
   "metadata": {},
   "outputs": [
    {
     "data": {
      "text/plain": [
       "(2356, 2075)"
      ]
     },
     "execution_count": 166,
     "metadata": {},
     "output_type": "execute_result"
    }
   ],
   "source": [
    "df_archive.tweet_id.unique().shape[0], df_predictions.tweet_id.unique().shape[0]"
   ]
  },
  {
   "cell_type": "markdown",
   "metadata": {},
   "source": [
    "<a id='cleaning'></a>\n",
    "# Part III - Cleaning Data\n",
    "\n",
    "Clean each of the issues you documented while assessing.  The result should be a high quality and tidy master pandas DataFrame (or DataFrames, if appropriate). Again, the issues that satisfy the Project Motivation must be cleaned."
   ]
  },
  {
   "cell_type": "code",
   "execution_count": 167,
   "metadata": {},
   "outputs": [],
   "source": [
    "# Create a Copy of the original data before cleaning\n",
    "df_clean = df_archive.copy()\n",
    "df_stats_clean = df_stats.copy()\n",
    "df_predictions_clean = df_predictions.copy()"
   ]
  },
  {
   "cell_type": "markdown",
   "metadata": {},
   "source": [
    "### Quality Issues - Convert ID columns from integer to strings\n",
    "**Define:** Convert IDs from integer to float data type df.astype('object') in `df_clean`, `df_stats_clean`, `df_predictions_clean`\n",
    "\n",
    "**Code:**"
   ]
  },
  {
   "cell_type": "code",
   "execution_count": 168,
   "metadata": {},
   "outputs": [],
   "source": [
    "# Convert IDs in all 3 data sources\n",
    "id_columns = ['tweet_id', 'in_reply_to_status_id', 'in_reply_to_user_id', 'retweeted_status_id']\n",
    "\n",
    "df_clean[id_columns] = df_clean[id_columns].astype('str')\n",
    "df_stats_clean['tweet_id'] = df_stats_clean['tweet_id'].astype('str')\n",
    "df_predictions_clean['tweet_id'] = df_predictions_clean['tweet_id'].astype('str')"
   ]
  },
  {
   "cell_type": "markdown",
   "metadata": {},
   "source": [
    "**Test:**"
   ]
  },
  {
   "cell_type": "code",
   "execution_count": 169,
   "metadata": {},
   "outputs": [],
   "source": [
    "assert df_clean[id_columns].dtypes.all() == 'object'\n",
    "assert df_stats_clean['tweet_id'].dtypes == 'object'\n",
    "assert df_predictions_clean['tweet_id'].dtypes == 'object'"
   ]
  },
  {
   "cell_type": "code",
   "execution_count": 170,
   "metadata": {},
   "outputs": [
    {
     "data": {
      "text/plain": [
       "(dtype('O'), dtype('O'), dtype('O'))"
      ]
     },
     "execution_count": 170,
     "metadata": {},
     "output_type": "execute_result"
    }
   ],
   "source": [
    "# Verify tweet ID data types to be string (object in Pandas)\n",
    "df_clean[id_columns].dtypes.all(), df_stats_clean['tweet_id'].dtypes, df_predictions_clean['tweet_id'].dtypes"
   ]
  },
  {
   "cell_type": "markdown",
   "metadata": {},
   "source": [
    "### Quality Issues - Filter Retweets and Replies\n",
    "**Define:** Filter retweets and replies from `df_archive_clean` and `df_stats_clean`\n",
    "\n",
    "**Code:**"
   ]
  },
  {
   "cell_type": "code",
   "execution_count": 171,
   "metadata": {},
   "outputs": [
    {
     "data": {
      "text/plain": [
       "(2356, 2331)"
      ]
     },
     "execution_count": 171,
     "metadata": {},
     "output_type": "execute_result"
    }
   ],
   "source": [
    "# Number of rows before removing\n",
    "df_clean.shape[0], df_stats_clean.shape[0]"
   ]
  },
  {
   "cell_type": "code",
   "execution_count": 172,
   "metadata": {},
   "outputs": [],
   "source": [
    "# Convert extracted IDs for retweets and replies from integer to str\n",
    "# Retweet and reply tweet ids were axtracted from Twitter API data (for df_stats)\n",
    "retweet_list = list(map(str, retweet_list))\n",
    "reply_list = list(map(str, reply_list))\n",
    "drop_list = list(set(retweet_list + reply_list))"
   ]
  },
  {
   "cell_type": "code",
   "execution_count": 173,
   "metadata": {},
   "outputs": [
    {
     "data": {
      "text/plain": [
       "240"
      ]
     },
     "execution_count": 173,
     "metadata": {},
     "output_type": "execute_result"
    }
   ],
   "source": [
    "# Number of rows to drop from df_stats_clean\n",
    "len(drop_list)"
   ]
  },
  {
   "cell_type": "code",
   "execution_count": 174,
   "metadata": {},
   "outputs": [],
   "source": [
    "# Create mask\n",
    "mask_drop_tweets = df_stats_clean['tweet_id'].isin(drop_list)\n",
    "# Index with a mask\n",
    "df_stats_clean = df_stats_clean.loc[~mask_drop_tweets]"
   ]
  },
  {
   "cell_type": "markdown",
   "metadata": {},
   "source": [
    "**Test:**"
   ]
  },
  {
   "cell_type": "code",
   "execution_count": 175,
   "metadata": {},
   "outputs": [],
   "source": [
    "assert df_stats_clean['tweet_id'].isin(drop_list).any() == False"
   ]
  },
  {
   "cell_type": "code",
   "execution_count": 176,
   "metadata": {},
   "outputs": [
    {
     "data": {
      "text/plain": [
       "2091"
      ]
     },
     "execution_count": 176,
     "metadata": {},
     "output_type": "execute_result"
    }
   ],
   "source": [
    "# Number of rows after\n",
    "df_stats_clean.shape[0]"
   ]
  },
  {
   "cell_type": "markdown",
   "metadata": {},
   "source": [
    "**Code:**\n",
    "\n",
    "As the `df_stats_clean` is now filtered for the retweets, replies and does not contain the tweets that have been removed in Twitter, we can filter the `df_clean` based on the `df_stats_clean` remaining observations. \n",
    "\n",
    "Another way to filter out the would be based on the `in_reply_to_status_id` and `retweeted_status_id` in the archive table but the would be redundant, as the current method deals with the problem already."
   ]
  },
  {
   "cell_type": "code",
   "execution_count": 177,
   "metadata": {},
   "outputs": [
    {
     "data": {
      "text/plain": [
       "(2356, 2091)"
      ]
     },
     "execution_count": 177,
     "metadata": {},
     "output_type": "execute_result"
    }
   ],
   "source": [
    "# Number of rows before removing\n",
    "df_clean.shape[0], df_stats_clean.shape[0] "
   ]
  },
  {
   "cell_type": "code",
   "execution_count": 178,
   "metadata": {},
   "outputs": [],
   "source": [
    "# Create mask and filter\n",
    "mask_tweets = df_clean['tweet_id'].isin(df_stats_clean['tweet_id'])\n",
    "df_clean = df_clean.loc[mask_tweets]"
   ]
  },
  {
   "cell_type": "markdown",
   "metadata": {},
   "source": [
    "**Test:**"
   ]
  },
  {
   "cell_type": "code",
   "execution_count": 179,
   "metadata": {},
   "outputs": [],
   "source": [
    "# Number of rows after\n",
    "assert df_clean.shape[0] == df_stats_clean.shape[0]"
   ]
  },
  {
   "cell_type": "code",
   "execution_count": 180,
   "metadata": {},
   "outputs": [
    {
     "data": {
      "text/plain": [
       "2091"
      ]
     },
     "execution_count": 180,
     "metadata": {},
     "output_type": "execute_result"
    }
   ],
   "source": [
    "# Number of rows after\n",
    "df_clean.shape[0]"
   ]
  },
  {
   "cell_type": "markdown",
   "metadata": {},
   "source": [
    "### Quality Issues - Convert date strings to datetime\n",
    "**Define:** Convert strings to datetime object with pd.to_datetime(). Note date format is different in `df_archive` and `df_stats`\n",
    "\n",
    "**Code:**"
   ]
  },
  {
   "cell_type": "code",
   "execution_count": 181,
   "metadata": {},
   "outputs": [],
   "source": [
    "# Convert str to datetime\n",
    "df_clean['timestamp'] = pd.to_datetime(df_clean['timestamp'], format='%Y-%m-%d %H:%M:%S +0000')"
   ]
  },
  {
   "cell_type": "code",
   "execution_count": 182,
   "metadata": {},
   "outputs": [],
   "source": [
    "# df_stats_clean\n",
    "#df_stats_clean['created_at'] = pd.to_datetime(df_stats['created_at'], format='%a %b %d %H:%M:%S +0000 %Y')\n",
    "#assert df_stats_clean['created_at'].dtypes == np.dtype('datetime64[ns]')"
   ]
  },
  {
   "cell_type": "markdown",
   "metadata": {},
   "source": [
    "**Test:**"
   ]
  },
  {
   "cell_type": "code",
   "execution_count": 183,
   "metadata": {},
   "outputs": [],
   "source": [
    "assert df_clean['timestamp'].dtypes == np.dtype('datetime64[ns]')"
   ]
  },
  {
   "cell_type": "code",
   "execution_count": 184,
   "metadata": {},
   "outputs": [
    {
     "name": "stdout",
     "output_type": "stream",
     "text": [
      "<class 'pandas.core.frame.DataFrame'>\n",
      "Int64Index: 2091 entries, 0 to 2355\n",
      "Data columns (total 1 columns):\n",
      " #   Column     Non-Null Count  Dtype         \n",
      "---  ------     --------------  -----         \n",
      " 0   timestamp  2091 non-null   datetime64[ns]\n",
      "dtypes: datetime64[ns](1)\n",
      "memory usage: 32.7 KB\n"
     ]
    }
   ],
   "source": [
    "df_clean[['timestamp']].info()"
   ]
  },
  {
   "cell_type": "markdown",
   "metadata": {},
   "source": [
    "### Tidiness Issues - Dog Stage Columns\n",
    "**Define:** Combine dog stage columns into one column named `'dog_stage'` with str methods, replace 'None' with '', afterwards remove it with Series.str.strip()\n",
    "\n",
    "**Code:**"
   ]
  },
  {
   "cell_type": "code",
   "execution_count": 185,
   "metadata": {},
   "outputs": [],
   "source": [
    "dog_stage_columns = ['doggo', 'floofer', 'pupper', 'puppo']\n",
    "df_clean[dog_stage_columns] = df_clean[dog_stage_columns].replace(to_replace='None', value='')"
   ]
  },
  {
   "cell_type": "code",
   "execution_count": 186,
   "metadata": {},
   "outputs": [],
   "source": [
    "# Check if all the 'None' values are removed\n",
    "for col in dog_stage_columns:\n",
    "    assert df_clean[col].any() != 'None'"
   ]
  },
  {
   "cell_type": "code",
   "execution_count": 187,
   "metadata": {},
   "outputs": [],
   "source": [
    "df_clean['dog_stage'] = df_clean['doggo'] + df_clean['floofer'] + df_clean['pupper'] + df_clean['puppo']\n",
    "\n",
    "# Then format entries with multiple dog stages.\n",
    "df_clean.loc[df_clean['dog_stage'] == 'doggopupper', 'dog_stage'] = 'doggo,pupper'\n",
    "df_clean.loc[df_clean['dog_stage'] == 'doggopuppo', 'dog_stage'] = 'doggo,puppo'\n",
    "df_clean.loc[df_clean['dog_stage'] == 'doggofloofer', 'dog_stage'] = 'doggo,floofer'"
   ]
  },
  {
   "cell_type": "code",
   "execution_count": 188,
   "metadata": {},
   "outputs": [],
   "source": [
    "# Remove empty space character\n",
    "df_clean['dog_stage'] = df_clean['dog_stage'].str.strip()"
   ]
  },
  {
   "cell_type": "markdown",
   "metadata": {},
   "source": [
    "**Test:**"
   ]
  },
  {
   "cell_type": "code",
   "execution_count": 189,
   "metadata": {},
   "outputs": [
    {
     "data": {
      "text/plain": [
       "                 1756\n",
       "pupper            221\n",
       "doggo              71\n",
       "puppo              23\n",
       "floofer             9\n",
       "doggo,pupper        9\n",
       "doggo,puppo         1\n",
       "doggo,floofer       1\n",
       "Name: dog_stage, dtype: int64"
      ]
     },
     "execution_count": 189,
     "metadata": {},
     "output_type": "execute_result"
    }
   ],
   "source": [
    "df_clean['dog_stage'].value_counts()"
   ]
  },
  {
   "cell_type": "markdown",
   "metadata": {},
   "source": [
    "### Quality Issues - Convert Dog Stage to categorical\n",
    "**Define:** Convert str to category with df.astype('category')\n",
    "\n",
    "**Code:**"
   ]
  },
  {
   "cell_type": "code",
   "execution_count": 190,
   "metadata": {},
   "outputs": [],
   "source": [
    "df_clean['dog_stage'] = df_clean['dog_stage'].astype('category')"
   ]
  },
  {
   "cell_type": "markdown",
   "metadata": {},
   "source": [
    "**Test:**"
   ]
  },
  {
   "cell_type": "code",
   "execution_count": 191,
   "metadata": {},
   "outputs": [],
   "source": [
    "# Check if all the 'None' values are removed'\n",
    "assert df_clean['dog_stage'].dtypes == 'category'"
   ]
  },
  {
   "cell_type": "code",
   "execution_count": 192,
   "metadata": {},
   "outputs": [
    {
     "name": "stdout",
     "output_type": "stream",
     "text": [
      "<class 'pandas.core.frame.DataFrame'>\n",
      "Int64Index: 2091 entries, 0 to 2355\n",
      "Data columns (total 4 columns):\n",
      " #   Column   Non-Null Count  Dtype \n",
      "---  ------   --------------  ----- \n",
      " 0   doggo    2091 non-null   object\n",
      " 1   floofer  2091 non-null   object\n",
      " 2   pupper   2091 non-null   object\n",
      " 3   puppo    2091 non-null   object\n",
      "dtypes: object(4)\n",
      "memory usage: 81.7+ KB\n"
     ]
    }
   ],
   "source": [
    "# Verify that the dog stage columns are converted properly\n",
    "df_clean[dog_stage_columns].info()"
   ]
  },
  {
   "cell_type": "markdown",
   "metadata": {},
   "source": [
    "### Quality Issues - Convert rating columns to float\n",
    "**Define:** Convert numerator and denumenator from integer to float data type df.astype('float')\n",
    "\n",
    "**Code:**"
   ]
  },
  {
   "cell_type": "code",
   "execution_count": 193,
   "metadata": {},
   "outputs": [],
   "source": [
    "df_clean[['rating_numerator', 'rating_denominator']] = df_clean[['rating_numerator', 'rating_denominator']].astype('float')"
   ]
  },
  {
   "cell_type": "markdown",
   "metadata": {},
   "source": [
    "**Test:**"
   ]
  },
  {
   "cell_type": "code",
   "execution_count": 194,
   "metadata": {},
   "outputs": [],
   "source": [
    "assert df_clean[['rating_numerator', 'rating_denominator']].dtypes.all() == 'float'"
   ]
  },
  {
   "cell_type": "code",
   "execution_count": 195,
   "metadata": {},
   "outputs": [
    {
     "data": {
      "text/plain": [
       "rating_numerator      float64\n",
       "rating_denominator    float64\n",
       "dtype: object"
      ]
     },
     "execution_count": 195,
     "metadata": {},
     "output_type": "execute_result"
    }
   ],
   "source": [
    "df_clean[['rating_numerator', 'rating_denominator']].dtypes"
   ]
  },
  {
   "cell_type": "markdown",
   "metadata": {},
   "source": [
    "### Quality Issues - Extract correct denominator values\n",
    "**Define:** Read denominator values from tweet text column with Series.str.extract(regex)\n",
    "\n",
    "**Code:**"
   ]
  },
  {
   "cell_type": "code",
   "execution_count": 196,
   "metadata": {},
   "outputs": [],
   "source": [
    "ratings = df_clean.text.str.extract('(\\d+)/(10)', expand=True)"
   ]
  },
  {
   "cell_type": "code",
   "execution_count": 197,
   "metadata": {},
   "outputs": [],
   "source": [
    "ratings2 = df_clean.text.str.extract('((?:\\d+\\.)?\\d+)\\/(\\d+)', expand=True)"
   ]
  },
  {
   "cell_type": "code",
   "execution_count": 198,
   "metadata": {},
   "outputs": [
    {
     "data": {
      "text/plain": [
       "12      484\n",
       "10      436\n",
       "11      414\n",
       "13      284\n",
       "9       153\n",
       "8        98\n",
       "7        51\n",
       "14       40\n",
       "5        34\n",
       "6        32\n",
       "3        19\n",
       "4        15\n",
       "2         9\n",
       "1         4\n",
       "1776      1\n",
       "26        1\n",
       "75        1\n",
       "420       1\n",
       "27        1\n",
       "0         1\n",
       "Name: 0, dtype: int64"
      ]
     },
     "execution_count": 198,
     "metadata": {},
     "output_type": "execute_result"
    }
   ],
   "source": [
    "ratings.iloc[:,0].value_counts()"
   ]
  },
  {
   "cell_type": "code",
   "execution_count": 199,
   "metadata": {},
   "outputs": [
    {
     "data": {
      "text/plain": [
       "12.00       484\n",
       "10.00       435\n",
       "11.00       413\n",
       "13.00       283\n",
       "9.00        153\n",
       "8.00         98\n",
       "7.00         52\n",
       "14.00        39\n",
       "5.00         34\n",
       "6.00         32\n",
       "3.00         19\n",
       "4.00         16\n",
       "2.00          9\n",
       "1.00          5\n",
       "24.00         1\n",
       "27.00         1\n",
       "84.00         1\n",
       "0.00          1\n",
       "420.00        1\n",
       "75.00         1\n",
       "80.00         1\n",
       "60.00         1\n",
       "44.00         1\n",
       "26.00         1\n",
       "144.00        1\n",
       "88.00         1\n",
       "121.00        1\n",
       "99.00         1\n",
       "204.00        1\n",
       "1,776.00      1\n",
       "45.00         1\n",
       "165.00        1\n",
       "50.00         1\n",
       "Name: rating_numerator, dtype: int64"
      ]
     },
     "execution_count": 199,
     "metadata": {},
     "output_type": "execute_result"
    }
   ],
   "source": [
    "df_clean.rating_numerator.value_counts()"
   ]
  },
  {
   "cell_type": "markdown",
   "metadata": {},
   "source": [
    "### Quality Issues - Drop unnecessary columns\n",
    "**Define:** Remove columns that are not need for the analysis with df.drop()\n",
    "\n",
    "**Code:**"
   ]
  },
  {
   "cell_type": "code",
   "execution_count": 200,
   "metadata": {},
   "outputs": [
    {
     "data": {
      "text/plain": [
       "(2091, 8)"
      ]
     },
     "execution_count": 200,
     "metadata": {},
     "output_type": "execute_result"
    }
   ],
   "source": [
    "columns_to_drop = list(['source', 'in_reply_to_status_id', 'in_reply_to_user_id', 'retweeted_status_id', 'retweeted_status_user_id', 'retweeted_status_timestamp', 'doggo', 'floofer', 'pupper', 'puppo'])\n",
    "\n",
    "df_clean = df_clean.drop(columns_to_drop, axis='columns')\n",
    "\n",
    "df_clean.shape"
   ]
  },
  {
   "cell_type": "code",
   "execution_count": 201,
   "metadata": {},
   "outputs": [
    {
     "name": "stdout",
     "output_type": "stream",
     "text": [
      "<class 'pandas.core.frame.DataFrame'>\n",
      "Int64Index: 2091 entries, 0 to 2355\n",
      "Data columns (total 8 columns):\n",
      " #   Column              Non-Null Count  Dtype         \n",
      "---  ------              --------------  -----         \n",
      " 0   tweet_id            2091 non-null   object        \n",
      " 1   timestamp           2091 non-null   datetime64[ns]\n",
      " 2   text                2091 non-null   object        \n",
      " 3   expanded_urls       2087 non-null   object        \n",
      " 4   rating_numerator    2091 non-null   float64       \n",
      " 5   rating_denominator  2091 non-null   float64       \n",
      " 6   name                2091 non-null   object        \n",
      " 7   dog_stage           2091 non-null   category      \n",
      "dtypes: category(1), datetime64[ns](1), float64(2), object(4)\n",
      "memory usage: 133.1+ KB\n"
     ]
    }
   ],
   "source": [
    "df_clean.info()"
   ]
  },
  {
   "cell_type": "markdown",
   "metadata": {},
   "source": [
    "**Test:**"
   ]
  },
  {
   "cell_type": "code",
   "execution_count": 202,
   "metadata": {},
   "outputs": [],
   "source": [
    "for col in columns_to_drop:\n",
    "    assert col not in df_clean.columns"
   ]
  },
  {
   "cell_type": "code",
   "execution_count": 203,
   "metadata": {},
   "outputs": [
    {
     "data": {
      "text/plain": [
       "Index(['tweet_id', 'timestamp', 'text', 'expanded_urls', 'rating_numerator',\n",
       "       'rating_denominator', 'name', 'dog_stage'],\n",
       "      dtype='object')"
      ]
     },
     "execution_count": 203,
     "metadata": {},
     "output_type": "execute_result"
    }
   ],
   "source": [
    "df_clean.columns"
   ]
  },
  {
   "cell_type": "markdown",
   "metadata": {},
   "source": [
    "### Quality Issues - Format Dog prediction labels\n",
    "**Define:** use chained str atributes on string Series like: str.lower().str.replace().str.title()\n",
    "\n",
    "**Code:**"
   ]
  },
  {
   "cell_type": "code",
   "execution_count": 204,
   "metadata": {},
   "outputs": [],
   "source": [
    "# Format prediction columns\n",
    "pred_id = ['p1', 'p2', 'p3']\n",
    "\n",
    "df_predictions_clean[pred_id] = df_predictions_clean[pred_id].apply(lambda x: x.str.lower().str.replace('_', ' ').str.title())"
   ]
  },
  {
   "cell_type": "markdown",
   "metadata": {},
   "source": [
    "**Test:**"
   ]
  },
  {
   "cell_type": "code",
   "execution_count": 205,
   "metadata": {},
   "outputs": [],
   "source": [
    "# Verify that all words ar capitalized\n",
    "assert df_predictions_clean[pred_id].applymap(lambda x: x[0].isupper() or x[1].isupper()).all().all()\n",
    "\n",
    "# Verify that '_' is removed\n",
    "assert df_predictions_clean[pred_id].apply(lambda x: x.str.contains('_')).all().all() == False"
   ]
  },
  {
   "cell_type": "code",
   "execution_count": 206,
   "metadata": {},
   "outputs": [
    {
     "data": {
      "text/html": [
       "<div>\n",
       "<style scoped>\n",
       "    .dataframe tbody tr th:only-of-type {\n",
       "        vertical-align: middle;\n",
       "    }\n",
       "\n",
       "    .dataframe tbody tr th {\n",
       "        vertical-align: top;\n",
       "    }\n",
       "\n",
       "    .dataframe thead th {\n",
       "        text-align: right;\n",
       "    }\n",
       "</style>\n",
       "<table border=\"1\" class=\"dataframe\">\n",
       "  <thead>\n",
       "    <tr style=\"text-align: right;\">\n",
       "      <th></th>\n",
       "      <th>p1</th>\n",
       "      <th>p2</th>\n",
       "      <th>p3</th>\n",
       "    </tr>\n",
       "  </thead>\n",
       "  <tbody>\n",
       "    <tr>\n",
       "      <th>0</th>\n",
       "      <td>Welsh Springer Spaniel</td>\n",
       "      <td>Collie</td>\n",
       "      <td>Shetland Sheepdog</td>\n",
       "    </tr>\n",
       "    <tr>\n",
       "      <th>1</th>\n",
       "      <td>Redbone</td>\n",
       "      <td>Miniature Pinscher</td>\n",
       "      <td>Rhodesian Ridgeback</td>\n",
       "    </tr>\n",
       "    <tr>\n",
       "      <th>2</th>\n",
       "      <td>German Shepherd</td>\n",
       "      <td>Malinois</td>\n",
       "      <td>Bloodhound</td>\n",
       "    </tr>\n",
       "    <tr>\n",
       "      <th>3</th>\n",
       "      <td>Rhodesian Ridgeback</td>\n",
       "      <td>Redbone</td>\n",
       "      <td>Miniature Pinscher</td>\n",
       "    </tr>\n",
       "    <tr>\n",
       "      <th>4</th>\n",
       "      <td>Miniature Pinscher</td>\n",
       "      <td>Rottweiler</td>\n",
       "      <td>Doberman</td>\n",
       "    </tr>\n",
       "  </tbody>\n",
       "</table>\n",
       "</div>"
      ],
      "text/plain": [
       "                       p1                  p2                   p3\n",
       "0  Welsh Springer Spaniel              Collie    Shetland Sheepdog\n",
       "1                 Redbone  Miniature Pinscher  Rhodesian Ridgeback\n",
       "2         German Shepherd            Malinois           Bloodhound\n",
       "3     Rhodesian Ridgeback             Redbone   Miniature Pinscher\n",
       "4      Miniature Pinscher          Rottweiler             Doberman"
      ]
     },
     "execution_count": 206,
     "metadata": {},
     "output_type": "execute_result"
    }
   ],
   "source": [
    "df_predictions_clean[pred_id].head(5)"
   ]
  },
  {
   "cell_type": "markdown",
   "metadata": {},
   "source": [
    "### Quality Issues - Select a Dog prediction \n",
    "**Define:** Choose a prediction of a dog label with df.apply(function) based on the following criteria that:\n",
    "   * Firstly, a dog is actually predicted by neural network.\n",
    "        * Secondly, probability of the prediction is higher than 20%.\n",
    "\n",
    "**Code:**"
   ]
  },
  {
   "cell_type": "code",
   "execution_count": 207,
   "metadata": {},
   "outputs": [],
   "source": [
    "# Function to select a prediction \n",
    "\n",
    "\n",
    "def select_prediction(df):    \n",
    "    if df['p1_dog'] and df['p1_conf'] > 0.2:\n",
    "        return df['p1']        \n",
    "    elif df['p2_dog'] and df['p2_conf'] > 0.2:\n",
    "        return df['p2']    \n",
    "    elif df['p3_dog'] and df['p3_conf'] > 0.2:\n",
    "        return df['p3']\n",
    "    else:\n",
    "        return 'Not a dog'\n",
    "    \n",
    "\n",
    "df_predictions_clean['prediction'] = df_predictions_clean.apply(select_prediction, axis = 1)"
   ]
  },
  {
   "cell_type": "markdown",
   "metadata": {},
   "source": [
    "**Test:**"
   ]
  },
  {
   "cell_type": "code",
   "execution_count": 208,
   "metadata": {
    "scrolled": true
   },
   "outputs": [
    {
     "data": {
      "text/plain": [
       "Not a dog             603\n",
       "Golden Retriever      152\n",
       "Labrador Retriever     99\n",
       "Pembroke               90\n",
       "Chihuahua              79\n",
       "Pug                    56\n",
       "Samoyed                44\n",
       "Chow                   41\n",
       "Toy Poodle             39\n",
       "Pomeranian             37\n",
       "Name: prediction, dtype: int64"
      ]
     },
     "execution_count": 208,
     "metadata": {},
     "output_type": "execute_result"
    }
   ],
   "source": [
    "df_predictions_clean['prediction'].value_counts().head(10)"
   ]
  },
  {
   "cell_type": "markdown",
   "metadata": {},
   "source": [
    "### Tidiness Issues - Combine data \n",
    "**Define:** Combine `df_clean` into one master DataFrame df using pd.merge():\n",
    "  * Add the retweet and favorite data from `df_stats_clean`\n",
    "  * Add valid predictions from `df_predictions_clean` \n",
    "  * Create one master file `df_master` and store as `twitter-archive-master.csv` df.to_csv()\n",
    "\n",
    "**Code:**"
   ]
  },
  {
   "cell_type": "code",
   "execution_count": 209,
   "metadata": {},
   "outputs": [
    {
     "name": "stdout",
     "output_type": "stream",
     "text": [
      "<class 'pandas.core.frame.DataFrame'>\n",
      "Int64Index: 1964 entries, 0 to 1963\n",
      "Data columns (total 13 columns):\n",
      " #   Column              Non-Null Count  Dtype         \n",
      "---  ------              --------------  -----         \n",
      " 0   tweet_id            1964 non-null   object        \n",
      " 1   timestamp           1964 non-null   datetime64[ns]\n",
      " 2   text                1964 non-null   object        \n",
      " 3   expanded_urls       1964 non-null   object        \n",
      " 4   rating_numerator    1964 non-null   float64       \n",
      " 5   rating_denominator  1964 non-null   float64       \n",
      " 6   name                1964 non-null   object        \n",
      " 7   dog_stage           1964 non-null   category      \n",
      " 8   retweet_count       1964 non-null   int64         \n",
      " 9   favorite_count      1964 non-null   int64         \n",
      " 10  prediction          1964 non-null   object        \n",
      " 11  jpg_url             1964 non-null   object        \n",
      " 12  img_num             1964 non-null   int64         \n",
      "dtypes: category(1), datetime64[ns](1), float64(2), int64(3), object(6)\n",
      "memory usage: 201.8+ KB\n"
     ]
    }
   ],
   "source": [
    "# Add retweet and favorite count\n",
    "df_master_clean = pd.merge(df_clean, df_stats_clean, how='inner', on='tweet_id')\n",
    "\n",
    "# Add images URLs and dog prediction labels\n",
    "df_master = pd.merge(df_master_clean, df_predictions_clean[['tweet_id','prediction', 'jpg_url', 'img_num']], how='inner', on='tweet_id')\n",
    "df_master.info()"
   ]
  },
  {
   "cell_type": "code",
   "execution_count": 210,
   "metadata": {},
   "outputs": [],
   "source": [
    "# List of variables tha must be kept in the master CSV file\n",
    "master_vars = ['tweet_id', 'timestamp', 'text', 'expanded_urls',\n",
    "               'rating_numerator', 'rating_denominator', \n",
    "               'name', 'dog_stage',\n",
    "               'retweet_count','favorite_count',\n",
    "               'prediction', 'jpg_url', 'img_num']\n",
    "\n",
    "# Verify that all desired variables are maintained\n",
    "for col in df_master.columns:\n",
    "    assert col in master_vars"
   ]
  },
  {
   "cell_type": "code",
   "execution_count": 211,
   "metadata": {},
   "outputs": [
    {
     "name": "stdout",
     "output_type": "stream",
     "text": [
      "<class 'pandas.core.frame.DataFrame'>\n",
      "Int64Index: 1964 entries, 0 to 1963\n",
      "Data columns (total 13 columns):\n",
      " #   Column              Non-Null Count  Dtype         \n",
      "---  ------              --------------  -----         \n",
      " 0   tweet_id            1964 non-null   object        \n",
      " 1   timestamp           1964 non-null   datetime64[ns]\n",
      " 2   text                1964 non-null   object        \n",
      " 3   expanded_urls       1964 non-null   object        \n",
      " 4   rating_numerator    1964 non-null   float64       \n",
      " 5   rating_denominator  1964 non-null   float64       \n",
      " 6   name                1964 non-null   object        \n",
      " 7   dog_stage           1964 non-null   category      \n",
      " 8   retweet_count       1964 non-null   int64         \n",
      " 9   favorite_count      1964 non-null   int64         \n",
      " 10  prediction          1964 non-null   object        \n",
      " 11  jpg_url             1964 non-null   object        \n",
      " 12  img_num             1964 non-null   int64         \n",
      "dtypes: category(1), datetime64[ns](1), float64(2), int64(3), object(6)\n",
      "memory usage: 201.8+ KB\n"
     ]
    }
   ],
   "source": [
    "df_master.info()"
   ]
  },
  {
   "cell_type": "markdown",
   "metadata": {},
   "source": [
    "## Saving Data\n",
    "\n",
    "Save the clean DataFrame `df_master` in a CSV file named `twitter_archive_master.csv`."
   ]
  },
  {
   "cell_type": "code",
   "execution_count": 212,
   "metadata": {},
   "outputs": [],
   "source": [
    "df_master.to_csv('twitter-archive-master.csv', index=False)"
   ]
  },
  {
   "cell_type": "markdown",
   "metadata": {},
   "source": [
    "<a id='analysis'></a>\n",
    "# Part IV - Analyzing Data\n",
    "\n",
    "Reporting of the project:\n",
    "  1. Summary of data wrangling efforts are reported in `wrangle_report.html`.\n",
    "  2. Summary of data analyses and visualizations are reported in `act_report.html`."
   ]
  },
  {
   "cell_type": "markdown",
   "metadata": {},
   "source": [
    "## Loading Data\n",
    "\n",
    "Load the clean DataFrame(s) in a CSV file with the main one named `twitter_archive_master.csv`."
   ]
  },
  {
   "cell_type": "code",
   "execution_count": 9,
   "metadata": {},
   "outputs": [
    {
     "name": "stdout",
     "output_type": "stream",
     "text": [
      "<class 'pandas.core.frame.DataFrame'>\n",
      "RangeIndex: 1964 entries, 0 to 1963\n",
      "Data columns (total 13 columns):\n",
      " #   Column              Non-Null Count  Dtype  \n",
      "---  ------              --------------  -----  \n",
      " 0   tweet_id            1964 non-null   int64  \n",
      " 1   timestamp           1964 non-null   object \n",
      " 2   text                1964 non-null   object \n",
      " 3   expanded_urls       1964 non-null   object \n",
      " 4   rating_numerator    1964 non-null   float64\n",
      " 5   rating_denominator  1964 non-null   float64\n",
      " 6   name                1964 non-null   object \n",
      " 7   dog_stage           302 non-null    object \n",
      " 8   retweet_count       1964 non-null   int64  \n",
      " 9   favorite_count      1964 non-null   int64  \n",
      " 10  prediction          1964 non-null   object \n",
      " 11  jpg_url             1964 non-null   object \n",
      " 12  img_num             1964 non-null   int64  \n",
      "dtypes: float64(2), int64(4), object(7)\n",
      "memory usage: 199.6+ KB\n"
     ]
    }
   ],
   "source": [
    "df = pd.read_csv('twitter-archive-master.csv')\n",
    "df.info()"
   ]
  },
  {
   "cell_type": "markdown",
   "metadata": {},
   "source": [
    "## Insights - Most Popular Dog Stage\n",
    "Most popular dog stage (at least from the ones who are categorised) seems to be doggo and puppo, whereas fluffer and pupper are falling behind."
   ]
  },
  {
   "cell_type": "code",
   "execution_count": 3,
   "metadata": {},
   "outputs": [
    {
     "data": {
      "text/html": [
       "<style  type=\"text/css\" >\n",
       "    #T_9f7ff6f4_8ed0_11ea_9c62_54e1ad8445f9row0_col1 {\n",
       "            background-color:  #fff7fb;\n",
       "            color:  #000000;\n",
       "        }    #T_9f7ff6f4_8ed0_11ea_9c62_54e1ad8445f9row0_col2 {\n",
       "            background-color:  #023858;\n",
       "            color:  #f1f1f1;\n",
       "        }    #T_9f7ff6f4_8ed0_11ea_9c62_54e1ad8445f9row0_col3 {\n",
       "            background-color:  #dedcec;\n",
       "            color:  #000000;\n",
       "        }    #T_9f7ff6f4_8ed0_11ea_9c62_54e1ad8445f9row1_col1 {\n",
       "            background-color:  #bdc8e1;\n",
       "            color:  #000000;\n",
       "        }    #T_9f7ff6f4_8ed0_11ea_9c62_54e1ad8445f9row1_col2 {\n",
       "            background-color:  #c2cbe2;\n",
       "            color:  #000000;\n",
       "        }    #T_9f7ff6f4_8ed0_11ea_9c62_54e1ad8445f9row1_col3 {\n",
       "            background-color:  #023858;\n",
       "            color:  #f1f1f1;\n",
       "        }    #T_9f7ff6f4_8ed0_11ea_9c62_54e1ad8445f9row2_col1 {\n",
       "            background-color:  #f0eaf4;\n",
       "            color:  #000000;\n",
       "        }    #T_9f7ff6f4_8ed0_11ea_9c62_54e1ad8445f9row2_col2 {\n",
       "            background-color:  #d2d2e7;\n",
       "            color:  #000000;\n",
       "        }    #T_9f7ff6f4_8ed0_11ea_9c62_54e1ad8445f9row2_col3 {\n",
       "            background-color:  #5ea0ca;\n",
       "            color:  #000000;\n",
       "        }    #T_9f7ff6f4_8ed0_11ea_9c62_54e1ad8445f9row3_col1 {\n",
       "            background-color:  #fbf3f9;\n",
       "            color:  #000000;\n",
       "        }    #T_9f7ff6f4_8ed0_11ea_9c62_54e1ad8445f9row3_col2 {\n",
       "            background-color:  #e7e3f0;\n",
       "            color:  #000000;\n",
       "        }    #T_9f7ff6f4_8ed0_11ea_9c62_54e1ad8445f9row3_col3 {\n",
       "            background-color:  #e1dfed;\n",
       "            color:  #000000;\n",
       "        }    #T_9f7ff6f4_8ed0_11ea_9c62_54e1ad8445f9row4_col1 {\n",
       "            background-color:  #faf3f9;\n",
       "            color:  #000000;\n",
       "        }    #T_9f7ff6f4_8ed0_11ea_9c62_54e1ad8445f9row4_col2 {\n",
       "            background-color:  #ece7f2;\n",
       "            color:  #000000;\n",
       "        }    #T_9f7ff6f4_8ed0_11ea_9c62_54e1ad8445f9row4_col3 {\n",
       "            background-color:  #dfddec;\n",
       "            color:  #000000;\n",
       "        }    #T_9f7ff6f4_8ed0_11ea_9c62_54e1ad8445f9row5_col1 {\n",
       "            background-color:  #fff7fb;\n",
       "            color:  #000000;\n",
       "        }    #T_9f7ff6f4_8ed0_11ea_9c62_54e1ad8445f9row5_col2 {\n",
       "            background-color:  #f6eff7;\n",
       "            color:  #000000;\n",
       "        }    #T_9f7ff6f4_8ed0_11ea_9c62_54e1ad8445f9row5_col3 {\n",
       "            background-color:  #fff7fb;\n",
       "            color:  #000000;\n",
       "        }    #T_9f7ff6f4_8ed0_11ea_9c62_54e1ad8445f9row6_col1 {\n",
       "            background-color:  #023858;\n",
       "            color:  #f1f1f1;\n",
       "        }    #T_9f7ff6f4_8ed0_11ea_9c62_54e1ad8445f9row6_col2 {\n",
       "            background-color:  #fff7fb;\n",
       "            color:  #000000;\n",
       "        }    #T_9f7ff6f4_8ed0_11ea_9c62_54e1ad8445f9row6_col3 {\n",
       "            background-color:  #9cb9d9;\n",
       "            color:  #000000;\n",
       "        }</style><table id=\"T_9f7ff6f4_8ed0_11ea_9c62_54e1ad8445f9\" ><thead>    <tr>        <th class=\"blank level0\" ></th>        <th class=\"col_heading level0 col0\" >dog_stage</th>        <th class=\"col_heading level0 col1\" colspan=3>retweet_count</th>    </tr>    <tr>        <th class=\"blank level1\" ></th>        <th class=\"col_heading level1 col0\" ></th>        <th class=\"col_heading level1 col1\" >count</th>        <th class=\"col_heading level1 col2\" >mean</th>        <th class=\"col_heading level1 col3\" >max</th>    </tr></thead><tbody>\n",
       "                <tr>\n",
       "                        <th id=\"T_9f7ff6f4_8ed0_11ea_9c62_54e1ad8445f9level0_row0\" class=\"row_heading level0 row0\" >0</th>\n",
       "                        <td id=\"T_9f7ff6f4_8ed0_11ea_9c62_54e1ad8445f9row0_col0\" class=\"data row0 col0\" >doggo,puppo</td>\n",
       "                        <td id=\"T_9f7ff6f4_8ed0_11ea_9c62_54e1ad8445f9row0_col1\" class=\"data row0 col1\" >1</td>\n",
       "                        <td id=\"T_9f7ff6f4_8ed0_11ea_9c62_54e1ad8445f9row0_col2\" class=\"data row0 col2\" >17394.0</td>\n",
       "                        <td id=\"T_9f7ff6f4_8ed0_11ea_9c62_54e1ad8445f9row0_col3\" class=\"data row0 col3\" >17394</td>\n",
       "            </tr>\n",
       "            <tr>\n",
       "                        <th id=\"T_9f7ff6f4_8ed0_11ea_9c62_54e1ad8445f9level0_row1\" class=\"row_heading level0 row1\" >1</th>\n",
       "                        <td id=\"T_9f7ff6f4_8ed0_11ea_9c62_54e1ad8445f9row1_col0\" class=\"data row1 col0\" >doggo</td>\n",
       "                        <td id=\"T_9f7ff6f4_8ed0_11ea_9c62_54e1ad8445f9row1_col1\" class=\"data row1 col1\" >62</td>\n",
       "                        <td id=\"T_9f7ff6f4_8ed0_11ea_9c62_54e1ad8445f9row1_col2\" class=\"data row1 col2\" >6560.0</td>\n",
       "                        <td id=\"T_9f7ff6f4_8ed0_11ea_9c62_54e1ad8445f9row1_col3\" class=\"data row1 col3\" >78154</td>\n",
       "            </tr>\n",
       "            <tr>\n",
       "                        <th id=\"T_9f7ff6f4_8ed0_11ea_9c62_54e1ad8445f9level0_row2\" class=\"row_heading level0 row2\" >2</th>\n",
       "                        <td id=\"T_9f7ff6f4_8ed0_11ea_9c62_54e1ad8445f9row2_col0\" class=\"data row2 col0\" >puppo</td>\n",
       "                        <td id=\"T_9f7ff6f4_8ed0_11ea_9c62_54e1ad8445f9row2_col1\" class=\"data row2 col1\" >22</td>\n",
       "                        <td id=\"T_9f7ff6f4_8ed0_11ea_9c62_54e1ad8445f9row2_col2\" class=\"data row2 col2\" >5850.0</td>\n",
       "                        <td id=\"T_9f7ff6f4_8ed0_11ea_9c62_54e1ad8445f9row2_col3\" class=\"data row2 col3\" >44030</td>\n",
       "            </tr>\n",
       "            <tr>\n",
       "                        <th id=\"T_9f7ff6f4_8ed0_11ea_9c62_54e1ad8445f9level0_row3\" class=\"row_heading level0 row3\" >3</th>\n",
       "                        <td id=\"T_9f7ff6f4_8ed0_11ea_9c62_54e1ad8445f9row3_col0\" class=\"data row3 col0\" >floofer</td>\n",
       "                        <td id=\"T_9f7ff6f4_8ed0_11ea_9c62_54e1ad8445f9row3_col1\" class=\"data row3 col1\" >7</td>\n",
       "                        <td id=\"T_9f7ff6f4_8ed0_11ea_9c62_54e1ad8445f9row3_col2\" class=\"data row3 col2\" >4371.0</td>\n",
       "                        <td id=\"T_9f7ff6f4_8ed0_11ea_9c62_54e1ad8445f9row3_col3\" class=\"data row3 col3\" >16165</td>\n",
       "            </tr>\n",
       "            <tr>\n",
       "                        <th id=\"T_9f7ff6f4_8ed0_11ea_9c62_54e1ad8445f9level0_row4\" class=\"row_heading level0 row4\" >4</th>\n",
       "                        <td id=\"T_9f7ff6f4_8ed0_11ea_9c62_54e1ad8445f9row4_col0\" class=\"data row4 col0\" >doggo,pupper</td>\n",
       "                        <td id=\"T_9f7ff6f4_8ed0_11ea_9c62_54e1ad8445f9row4_col1\" class=\"data row4 col1\" >8</td>\n",
       "                        <td id=\"T_9f7ff6f4_8ed0_11ea_9c62_54e1ad8445f9row4_col2\" class=\"data row4 col2\" >4058.0</td>\n",
       "                        <td id=\"T_9f7ff6f4_8ed0_11ea_9c62_54e1ad8445f9row4_col3\" class=\"data row4 col3\" >16847</td>\n",
       "            </tr>\n",
       "            <tr>\n",
       "                        <th id=\"T_9f7ff6f4_8ed0_11ea_9c62_54e1ad8445f9level0_row5\" class=\"row_heading level0 row5\" >5</th>\n",
       "                        <td id=\"T_9f7ff6f4_8ed0_11ea_9c62_54e1ad8445f9row5_col0\" class=\"data row5 col0\" >doggo,floofer</td>\n",
       "                        <td id=\"T_9f7ff6f4_8ed0_11ea_9c62_54e1ad8445f9row5_col1\" class=\"data row5 col1\" >1</td>\n",
       "                        <td id=\"T_9f7ff6f4_8ed0_11ea_9c62_54e1ad8445f9row5_col2\" class=\"data row5 col2\" >3060.0</td>\n",
       "                        <td id=\"T_9f7ff6f4_8ed0_11ea_9c62_54e1ad8445f9row5_col3\" class=\"data row5 col3\" >3060</td>\n",
       "            </tr>\n",
       "            <tr>\n",
       "                        <th id=\"T_9f7ff6f4_8ed0_11ea_9c62_54e1ad8445f9level0_row6\" class=\"row_heading level0 row6\" >6</th>\n",
       "                        <td id=\"T_9f7ff6f4_8ed0_11ea_9c62_54e1ad8445f9row6_col0\" class=\"data row6 col0\" >pupper</td>\n",
       "                        <td id=\"T_9f7ff6f4_8ed0_11ea_9c62_54e1ad8445f9row6_col1\" class=\"data row6 col1\" >201</td>\n",
       "                        <td id=\"T_9f7ff6f4_8ed0_11ea_9c62_54e1ad8445f9row6_col2\" class=\"data row6 col2\" >2117.0</td>\n",
       "                        <td id=\"T_9f7ff6f4_8ed0_11ea_9c62_54e1ad8445f9row6_col3\" class=\"data row6 col3\" >33085</td>\n",
       "            </tr>\n",
       "    </tbody></table>"
      ],
      "text/plain": [
       "<pandas.io.formats.style.Styler at 0x2be9c653948>"
      ]
     },
     "execution_count": 3,
     "metadata": {},
     "output_type": "execute_result"
    }
   ],
   "source": [
    "pd.set_option('display.precision', 1)\n",
    "# Most popular dog stage by retweet or favorite count\n",
    "(df.groupby('dog_stage').agg(['count', 'mean', 'max'])\n",
    " .loc[:, ['retweet_count']].round(0)\n",
    " .sort_values(('retweet_count', 'mean'), ascending=False)\n",
    " .reset_index()\n",
    " .style.background_gradient())"
   ]
  },
  {
   "cell_type": "code",
   "execution_count": 4,
   "metadata": {},
   "outputs": [
    {
     "data": {
      "text/html": [
       "<style  type=\"text/css\" >\n",
       "    #T_9f910dd2_8ed0_11ea_9eca_54e1ad8445f9row0_col1 {\n",
       "            background-color:  #fff7fb;\n",
       "            color:  #000000;\n",
       "        }    #T_9f910dd2_8ed0_11ea_9eca_54e1ad8445f9row0_col2 {\n",
       "            background-color:  #023858;\n",
       "            color:  #f1f1f1;\n",
       "        }    #T_9f910dd2_8ed0_11ea_9eca_54e1ad8445f9row0_col3 {\n",
       "            background-color:  #dad9ea;\n",
       "            color:  #000000;\n",
       "        }    #T_9f910dd2_8ed0_11ea_9eca_54e1ad8445f9row1_col1 {\n",
       "            background-color:  #f0eaf4;\n",
       "            color:  #000000;\n",
       "        }    #T_9f910dd2_8ed0_11ea_9eca_54e1ad8445f9row1_col2 {\n",
       "            background-color:  #a5bddb;\n",
       "            color:  #000000;\n",
       "        }    #T_9f910dd2_8ed0_11ea_9eca_54e1ad8445f9row1_col3 {\n",
       "            background-color:  #046198;\n",
       "            color:  #f1f1f1;\n",
       "        }    #T_9f910dd2_8ed0_11ea_9eca_54e1ad8445f9row2_col1 {\n",
       "            background-color:  #bdc8e1;\n",
       "            color:  #000000;\n",
       "        }    #T_9f910dd2_8ed0_11ea_9eca_54e1ad8445f9row2_col2 {\n",
       "            background-color:  #b8c6e0;\n",
       "            color:  #000000;\n",
       "        }    #T_9f910dd2_8ed0_11ea_9eca_54e1ad8445f9row2_col3 {\n",
       "            background-color:  #023858;\n",
       "            color:  #f1f1f1;\n",
       "        }    #T_9f910dd2_8ed0_11ea_9eca_54e1ad8445f9row3_col1 {\n",
       "            background-color:  #fff7fb;\n",
       "            color:  #000000;\n",
       "        }    #T_9f910dd2_8ed0_11ea_9eca_54e1ad8445f9row3_col2 {\n",
       "            background-color:  #d2d3e7;\n",
       "            color:  #000000;\n",
       "        }    #T_9f910dd2_8ed0_11ea_9eca_54e1ad8445f9row3_col3 {\n",
       "            background-color:  #fff7fb;\n",
       "            color:  #000000;\n",
       "        }    #T_9f910dd2_8ed0_11ea_9eca_54e1ad8445f9row4_col1 {\n",
       "            background-color:  #faf3f9;\n",
       "            color:  #000000;\n",
       "        }    #T_9f910dd2_8ed0_11ea_9eca_54e1ad8445f9row4_col2 {\n",
       "            background-color:  #e1dfed;\n",
       "            color:  #000000;\n",
       "        }    #T_9f910dd2_8ed0_11ea_9eca_54e1ad8445f9row4_col3 {\n",
       "            background-color:  #d2d2e7;\n",
       "            color:  #000000;\n",
       "        }    #T_9f910dd2_8ed0_11ea_9eca_54e1ad8445f9row5_col1 {\n",
       "            background-color:  #fbf3f9;\n",
       "            color:  #000000;\n",
       "        }    #T_9f910dd2_8ed0_11ea_9eca_54e1ad8445f9row5_col2 {\n",
       "            background-color:  #e8e4f0;\n",
       "            color:  #000000;\n",
       "        }    #T_9f910dd2_8ed0_11ea_9eca_54e1ad8445f9row5_col3 {\n",
       "            background-color:  #f0eaf4;\n",
       "            color:  #000000;\n",
       "        }    #T_9f910dd2_8ed0_11ea_9eca_54e1ad8445f9row6_col1 {\n",
       "            background-color:  #023858;\n",
       "            color:  #f1f1f1;\n",
       "        }    #T_9f910dd2_8ed0_11ea_9eca_54e1ad8445f9row6_col2 {\n",
       "            background-color:  #fff7fb;\n",
       "            color:  #000000;\n",
       "        }    #T_9f910dd2_8ed0_11ea_9eca_54e1ad8445f9row6_col3 {\n",
       "            background-color:  #1278b4;\n",
       "            color:  #f1f1f1;\n",
       "        }</style><table id=\"T_9f910dd2_8ed0_11ea_9eca_54e1ad8445f9\" ><thead>    <tr>        <th class=\"blank level0\" ></th>        <th class=\"col_heading level0 col0\" >dog_stage</th>        <th class=\"col_heading level0 col1\" colspan=3>favorite_count</th>    </tr>    <tr>        <th class=\"blank level1\" ></th>        <th class=\"col_heading level1 col0\" ></th>        <th class=\"col_heading level1 col1\" >count</th>        <th class=\"col_heading level1 col2\" >mean</th>        <th class=\"col_heading level1 col3\" >max</th>    </tr></thead><tbody>\n",
       "                <tr>\n",
       "                        <th id=\"T_9f910dd2_8ed0_11ea_9eca_54e1ad8445f9level0_row0\" class=\"row_heading level0 row0\" >0</th>\n",
       "                        <td id=\"T_9f910dd2_8ed0_11ea_9eca_54e1ad8445f9row0_col0\" class=\"data row0 col0\" >doggo,puppo</td>\n",
       "                        <td id=\"T_9f910dd2_8ed0_11ea_9eca_54e1ad8445f9row0_col1\" class=\"data row0 col1\" >1</td>\n",
       "                        <td id=\"T_9f910dd2_8ed0_11ea_9eca_54e1ad8445f9row0_col2\" class=\"data row0 col2\" >44535.0</td>\n",
       "                        <td id=\"T_9f910dd2_8ed0_11ea_9eca_54e1ad8445f9row0_col3\" class=\"data row0 col3\" >44535</td>\n",
       "            </tr>\n",
       "            <tr>\n",
       "                        <th id=\"T_9f910dd2_8ed0_11ea_9eca_54e1ad8445f9level0_row1\" class=\"row_heading level0 row1\" >1</th>\n",
       "                        <td id=\"T_9f910dd2_8ed0_11ea_9eca_54e1ad8445f9row1_col0\" class=\"data row1 col0\" >puppo</td>\n",
       "                        <td id=\"T_9f910dd2_8ed0_11ea_9eca_54e1ad8445f9row1_col1\" class=\"data row1 col1\" >22</td>\n",
       "                        <td id=\"T_9f910dd2_8ed0_11ea_9eca_54e1ad8445f9row1_col2\" class=\"data row1 col2\" >21025.0</td>\n",
       "                        <td id=\"T_9f910dd2_8ed0_11ea_9eca_54e1ad8445f9row1_col3\" class=\"data row1 col3\" >133560</td>\n",
       "            </tr>\n",
       "            <tr>\n",
       "                        <th id=\"T_9f910dd2_8ed0_11ea_9eca_54e1ad8445f9level0_row2\" class=\"row_heading level0 row2\" >2</th>\n",
       "                        <td id=\"T_9f910dd2_8ed0_11ea_9eca_54e1ad8445f9row2_col0\" class=\"data row2 col0\" >doggo</td>\n",
       "                        <td id=\"T_9f910dd2_8ed0_11ea_9eca_54e1ad8445f9row2_col1\" class=\"data row2 col1\" >62</td>\n",
       "                        <td id=\"T_9f910dd2_8ed0_11ea_9eca_54e1ad8445f9row2_col2\" class=\"data row2 col2\" >18955.0</td>\n",
       "                        <td id=\"T_9f910dd2_8ed0_11ea_9eca_54e1ad8445f9row2_col3\" class=\"data row2 col3\" >156838</td>\n",
       "            </tr>\n",
       "            <tr>\n",
       "                        <th id=\"T_9f910dd2_8ed0_11ea_9eca_54e1ad8445f9level0_row3\" class=\"row_heading level0 row3\" >3</th>\n",
       "                        <td id=\"T_9f910dd2_8ed0_11ea_9eca_54e1ad8445f9row3_col0\" class=\"data row3 col0\" >doggo,floofer</td>\n",
       "                        <td id=\"T_9f910dd2_8ed0_11ea_9eca_54e1ad8445f9row3_col1\" class=\"data row3 col1\" >1</td>\n",
       "                        <td id=\"T_9f910dd2_8ed0_11ea_9eca_54e1ad8445f9row3_col2\" class=\"data row3 col2\" >15893.0</td>\n",
       "                        <td id=\"T_9f910dd2_8ed0_11ea_9eca_54e1ad8445f9row3_col3\" class=\"data row3 col3\" >15893</td>\n",
       "            </tr>\n",
       "            <tr>\n",
       "                        <th id=\"T_9f910dd2_8ed0_11ea_9eca_54e1ad8445f9level0_row4\" class=\"row_heading level0 row4\" >4</th>\n",
       "                        <td id=\"T_9f910dd2_8ed0_11ea_9eca_54e1ad8445f9row4_col0\" class=\"data row4 col0\" >doggo,pupper</td>\n",
       "                        <td id=\"T_9f910dd2_8ed0_11ea_9eca_54e1ad8445f9row4_col1\" class=\"data row4 col1\" >8</td>\n",
       "                        <td id=\"T_9f910dd2_8ed0_11ea_9eca_54e1ad8445f9row4_col2\" class=\"data row4 col2\" >13294.0</td>\n",
       "                        <td id=\"T_9f910dd2_8ed0_11ea_9eca_54e1ad8445f9row4_col3\" class=\"data row4 col3\" >50151</td>\n",
       "            </tr>\n",
       "            <tr>\n",
       "                        <th id=\"T_9f910dd2_8ed0_11ea_9eca_54e1ad8445f9level0_row5\" class=\"row_heading level0 row5\" >5</th>\n",
       "                        <td id=\"T_9f910dd2_8ed0_11ea_9eca_54e1ad8445f9row5_col0\" class=\"data row5 col0\" >floofer</td>\n",
       "                        <td id=\"T_9f910dd2_8ed0_11ea_9eca_54e1ad8445f9row5_col1\" class=\"data row5 col1\" >7</td>\n",
       "                        <td id=\"T_9f910dd2_8ed0_11ea_9eca_54e1ad8445f9row5_col2\" class=\"data row5 col2\" >12105.0</td>\n",
       "                        <td id=\"T_9f910dd2_8ed0_11ea_9eca_54e1ad8445f9row5_col3\" class=\"data row5 col3\" >30430</td>\n",
       "            </tr>\n",
       "            <tr>\n",
       "                        <th id=\"T_9f910dd2_8ed0_11ea_9eca_54e1ad8445f9level0_row6\" class=\"row_heading level0 row6\" >6</th>\n",
       "                        <td id=\"T_9f910dd2_8ed0_11ea_9eca_54e1ad8445f9row6_col0\" class=\"data row6 col0\" >pupper</td>\n",
       "                        <td id=\"T_9f910dd2_8ed0_11ea_9eca_54e1ad8445f9row6_col1\" class=\"data row6 col1\" >201</td>\n",
       "                        <td id=\"T_9f910dd2_8ed0_11ea_9eca_54e1ad8445f9row6_col2\" class=\"data row6 col2\" >6745.0</td>\n",
       "                        <td id=\"T_9f910dd2_8ed0_11ea_9eca_54e1ad8445f9row6_col3\" class=\"data row6 col3\" >116807</td>\n",
       "            </tr>\n",
       "    </tbody></table>"
      ],
      "text/plain": [
       "<pandas.io.formats.style.Styler at 0x2be9c6c3b48>"
      ]
     },
     "execution_count": 4,
     "metadata": {},
     "output_type": "execute_result"
    }
   ],
   "source": [
    "# Most popular dog stage by favorite count\n",
    "(df.groupby('dog_stage').agg(['count', 'mean', 'max'])\n",
    " .loc[:, ['favorite_count']].round(0)\n",
    " .sort_values(('favorite_count', 'mean'), ascending=False)\n",
    " .reset_index()\n",
    " .style.background_gradient())"
   ]
  },
  {
   "cell_type": "markdown",
   "metadata": {},
   "source": [
    "## Insights - Most Popular Dog Breeds"
   ]
  },
  {
   "cell_type": "code",
   "execution_count": 5,
   "metadata": {},
   "outputs": [
    {
     "data": {
      "text/html": [
       "<style  type=\"text/css\" >\n",
       "    #T_9fa530e2_8ed0_11ea_a193_54e1ad8445f9row0_col1 {\n",
       "            background-color:  #fff7fb;\n",
       "            color:  #000000;\n",
       "        }    #T_9fa530e2_8ed0_11ea_a193_54e1ad8445f9row0_col2 {\n",
       "            background-color:  #023858;\n",
       "            color:  #f1f1f1;\n",
       "        }    #T_9fa530e2_8ed0_11ea_a193_54e1ad8445f9row0_col3 {\n",
       "            background-color:  #fef6fa;\n",
       "            color:  #000000;\n",
       "        }    #T_9fa530e2_8ed0_11ea_a193_54e1ad8445f9row1_col1 {\n",
       "            background-color:  #eae6f1;\n",
       "            color:  #000000;\n",
       "        }    #T_9fa530e2_8ed0_11ea_a193_54e1ad8445f9row1_col2 {\n",
       "            background-color:  #3f93c2;\n",
       "            color:  #000000;\n",
       "        }    #T_9fa530e2_8ed0_11ea_a193_54e1ad8445f9row1_col3 {\n",
       "            background-color:  #4a98c5;\n",
       "            color:  #000000;\n",
       "        }    #T_9fa530e2_8ed0_11ea_a193_54e1ad8445f9row2_col1 {\n",
       "            background-color:  #a5bddb;\n",
       "            color:  #000000;\n",
       "        }    #T_9fa530e2_8ed0_11ea_a193_54e1ad8445f9row2_col2 {\n",
       "            background-color:  #8fb4d6;\n",
       "            color:  #000000;\n",
       "        }    #T_9fa530e2_8ed0_11ea_a193_54e1ad8445f9row2_col3 {\n",
       "            background-color:  #023858;\n",
       "            color:  #f1f1f1;\n",
       "        }    #T_9fa530e2_8ed0_11ea_a193_54e1ad8445f9row3_col1 {\n",
       "            background-color:  #dedcec;\n",
       "            color:  #000000;\n",
       "        }    #T_9fa530e2_8ed0_11ea_a193_54e1ad8445f9row3_col2 {\n",
       "            background-color:  #9ab8d8;\n",
       "            color:  #000000;\n",
       "        }    #T_9fa530e2_8ed0_11ea_a193_54e1ad8445f9row3_col3 {\n",
       "            background-color:  #2c89bd;\n",
       "            color:  #000000;\n",
       "        }    #T_9fa530e2_8ed0_11ea_a193_54e1ad8445f9row4_col1 {\n",
       "            background-color:  #f7f0f7;\n",
       "            color:  #000000;\n",
       "        }    #T_9fa530e2_8ed0_11ea_a193_54e1ad8445f9row4_col2 {\n",
       "            background-color:  #eae6f1;\n",
       "            color:  #000000;\n",
       "        }    #T_9fa530e2_8ed0_11ea_a193_54e1ad8445f9row4_col3 {\n",
       "            background-color:  #fdf5fa;\n",
       "            color:  #000000;\n",
       "        }    #T_9fa530e2_8ed0_11ea_a193_54e1ad8445f9row5_col1 {\n",
       "            background-color:  #fff7fb;\n",
       "            color:  #000000;\n",
       "        }    #T_9fa530e2_8ed0_11ea_a193_54e1ad8445f9row5_col2 {\n",
       "            background-color:  #ebe6f2;\n",
       "            color:  #000000;\n",
       "        }    #T_9fa530e2_8ed0_11ea_a193_54e1ad8445f9row5_col3 {\n",
       "            background-color:  #fff7fb;\n",
       "            color:  #000000;\n",
       "        }    #T_9fa530e2_8ed0_11ea_a193_54e1ad8445f9row6_col1 {\n",
       "            background-color:  #023858;\n",
       "            color:  #f1f1f1;\n",
       "        }    #T_9fa530e2_8ed0_11ea_a193_54e1ad8445f9row6_col2 {\n",
       "            background-color:  #f4eef6;\n",
       "            color:  #000000;\n",
       "        }    #T_9fa530e2_8ed0_11ea_a193_54e1ad8445f9row6_col3 {\n",
       "            background-color:  #e7e3f0;\n",
       "            color:  #000000;\n",
       "        }    #T_9fa530e2_8ed0_11ea_a193_54e1ad8445f9row7_col1 {\n",
       "            background-color:  #fbf4f9;\n",
       "            color:  #000000;\n",
       "        }    #T_9fa530e2_8ed0_11ea_a193_54e1ad8445f9row7_col2 {\n",
       "            background-color:  #f8f1f8;\n",
       "            color:  #000000;\n",
       "        }    #T_9fa530e2_8ed0_11ea_a193_54e1ad8445f9row7_col3 {\n",
       "            background-color:  #fdf5fa;\n",
       "            color:  #000000;\n",
       "        }    #T_9fa530e2_8ed0_11ea_a193_54e1ad8445f9row8_col1 {\n",
       "            background-color:  #2c89bd;\n",
       "            color:  #000000;\n",
       "        }    #T_9fa530e2_8ed0_11ea_a193_54e1ad8445f9row8_col2 {\n",
       "            background-color:  #fcf4fa;\n",
       "            color:  #000000;\n",
       "        }    #T_9fa530e2_8ed0_11ea_a193_54e1ad8445f9row8_col3 {\n",
       "            background-color:  #76aad0;\n",
       "            color:  #000000;\n",
       "        }    #T_9fa530e2_8ed0_11ea_a193_54e1ad8445f9row9_col1 {\n",
       "            background-color:  #b7c5df;\n",
       "            color:  #000000;\n",
       "        }    #T_9fa530e2_8ed0_11ea_a193_54e1ad8445f9row9_col2 {\n",
       "            background-color:  #fff7fb;\n",
       "            color:  #000000;\n",
       "        }    #T_9fa530e2_8ed0_11ea_a193_54e1ad8445f9row9_col3 {\n",
       "            background-color:  #ebe6f2;\n",
       "            color:  #000000;\n",
       "        }</style><table id=\"T_9fa530e2_8ed0_11ea_a193_54e1ad8445f9\" ><thead>    <tr>        <th class=\"blank level0\" ></th>        <th class=\"col_heading level0 col0\" >prediction</th>        <th class=\"col_heading level0 col1\" colspan=3>retweet_count</th>    </tr>    <tr>        <th class=\"blank level1\" ></th>        <th class=\"col_heading level1 col0\" ></th>        <th class=\"col_heading level1 col1\" >count</th>        <th class=\"col_heading level1 col2\" >mean</th>        <th class=\"col_heading level1 col3\" >max</th>    </tr></thead><tbody>\n",
       "                <tr>\n",
       "                        <th id=\"T_9fa530e2_8ed0_11ea_a193_54e1ad8445f9level0_row0\" class=\"row_heading level0 row0\" >0</th>\n",
       "                        <td id=\"T_9fa530e2_8ed0_11ea_a193_54e1ad8445f9row0_col0\" class=\"data row0 col0\" >Afghan Hound</td>\n",
       "                        <td id=\"T_9fa530e2_8ed0_11ea_a193_54e1ad8445f9row0_col1\" class=\"data row0 col1\" >2</td>\n",
       "                        <td id=\"T_9fa530e2_8ed0_11ea_a193_54e1ad8445f9row0_col2\" class=\"data row0 col2\" >7030.0</td>\n",
       "                        <td id=\"T_9fa530e2_8ed0_11ea_a193_54e1ad8445f9row0_col3\" class=\"data row0 col3\" >9414</td>\n",
       "            </tr>\n",
       "            <tr>\n",
       "                        <th id=\"T_9fa530e2_8ed0_11ea_a193_54e1ad8445f9level0_row1\" class=\"row_heading level0 row1\" >1</th>\n",
       "                        <td id=\"T_9fa530e2_8ed0_11ea_a193_54e1ad8445f9row1_col0\" class=\"data row1 col0\" >Standard Poodle</td>\n",
       "                        <td id=\"T_9fa530e2_8ed0_11ea_a193_54e1ad8445f9row1_col1\" class=\"data row1 col1\" >7</td>\n",
       "                        <td id=\"T_9fa530e2_8ed0_11ea_a193_54e1ad8445f9row1_col2\" class=\"data row1 col2\" >5894.0</td>\n",
       "                        <td id=\"T_9fa530e2_8ed0_11ea_a193_54e1ad8445f9row1_col3\" class=\"data row1 col3\" >37575</td>\n",
       "            </tr>\n",
       "            <tr>\n",
       "                        <th id=\"T_9fa530e2_8ed0_11ea_a193_54e1ad8445f9level0_row2\" class=\"row_heading level0 row2\" >2</th>\n",
       "                        <td id=\"T_9fa530e2_8ed0_11ea_a193_54e1ad8445f9row2_col0\" class=\"data row2 col0\" >Eskimo Dog</td>\n",
       "                        <td id=\"T_9fa530e2_8ed0_11ea_a193_54e1ad8445f9row2_col1\" class=\"data row2 col1\" >16</td>\n",
       "                        <td id=\"T_9fa530e2_8ed0_11ea_a193_54e1ad8445f9row2_col2\" class=\"data row2 col2\" >5392.0</td>\n",
       "                        <td id=\"T_9fa530e2_8ed0_11ea_a193_54e1ad8445f9row2_col3\" class=\"data row2 col3\" >57933</td>\n",
       "            </tr>\n",
       "            <tr>\n",
       "                        <th id=\"T_9fa530e2_8ed0_11ea_a193_54e1ad8445f9level0_row3\" class=\"row_heading level0 row3\" >3</th>\n",
       "                        <td id=\"T_9fa530e2_8ed0_11ea_a193_54e1ad8445f9row3_col0\" class=\"data row3 col0\" >English Springer</td>\n",
       "                        <td id=\"T_9fa530e2_8ed0_11ea_a193_54e1ad8445f9row3_col1\" class=\"data row3 col1\" >9</td>\n",
       "                        <td id=\"T_9fa530e2_8ed0_11ea_a193_54e1ad8445f9row3_col2\" class=\"data row3 col2\" >5306.0</td>\n",
       "                        <td id=\"T_9fa530e2_8ed0_11ea_a193_54e1ad8445f9row3_col3\" class=\"data row3 col3\" >40747</td>\n",
       "            </tr>\n",
       "            <tr>\n",
       "                        <th id=\"T_9fa530e2_8ed0_11ea_a193_54e1ad8445f9level0_row4\" class=\"row_heading level0 row4\" >4</th>\n",
       "                        <td id=\"T_9fa530e2_8ed0_11ea_a193_54e1ad8445f9row4_col0\" class=\"data row4 col0\" >Saluki</td>\n",
       "                        <td id=\"T_9fa530e2_8ed0_11ea_a193_54e1ad8445f9row4_col1\" class=\"data row4 col1\" >4</td>\n",
       "                        <td id=\"T_9fa530e2_8ed0_11ea_a193_54e1ad8445f9row4_col2\" class=\"data row4 col2\" >4529.0</td>\n",
       "                        <td id=\"T_9fa530e2_8ed0_11ea_a193_54e1ad8445f9row4_col3\" class=\"data row4 col3\" >9783</td>\n",
       "            </tr>\n",
       "            <tr>\n",
       "                        <th id=\"T_9fa530e2_8ed0_11ea_a193_54e1ad8445f9level0_row5\" class=\"row_heading level0 row5\" >5</th>\n",
       "                        <td id=\"T_9fa530e2_8ed0_11ea_a193_54e1ad8445f9row5_col0\" class=\"data row5 col0\" >Giant Schnauzer</td>\n",
       "                        <td id=\"T_9fa530e2_8ed0_11ea_a193_54e1ad8445f9row5_col1\" class=\"data row5 col1\" >2</td>\n",
       "                        <td id=\"T_9fa530e2_8ed0_11ea_a193_54e1ad8445f9row5_col2\" class=\"data row5 col2\" >4522.0</td>\n",
       "                        <td id=\"T_9fa530e2_8ed0_11ea_a193_54e1ad8445f9row5_col3\" class=\"data row5 col3\" >8965</td>\n",
       "            </tr>\n",
       "            <tr>\n",
       "                        <th id=\"T_9fa530e2_8ed0_11ea_a193_54e1ad8445f9level0_row6\" class=\"row_heading level0 row6\" >6</th>\n",
       "                        <td id=\"T_9fa530e2_8ed0_11ea_a193_54e1ad8445f9row6_col0\" class=\"data row6 col0\" >Samoyed</td>\n",
       "                        <td id=\"T_9fa530e2_8ed0_11ea_a193_54e1ad8445f9row6_col1\" class=\"data row6 col1\" >39</td>\n",
       "                        <td id=\"T_9fa530e2_8ed0_11ea_a193_54e1ad8445f9row6_col2\" class=\"data row6 col2\" >4351.0</td>\n",
       "                        <td id=\"T_9fa530e2_8ed0_11ea_a193_54e1ad8445f9row6_col3\" class=\"data row6 col3\" >16165</td>\n",
       "            </tr>\n",
       "            <tr>\n",
       "                        <th id=\"T_9fa530e2_8ed0_11ea_a193_54e1ad8445f9level0_row7\" class=\"row_heading level0 row7\" >7</th>\n",
       "                        <td id=\"T_9fa530e2_8ed0_11ea_a193_54e1ad8445f9row7_col0\" class=\"data row7 col0\" >Mexican Hairless</td>\n",
       "                        <td id=\"T_9fa530e2_8ed0_11ea_a193_54e1ad8445f9row7_col1\" class=\"data row7 col1\" >3</td>\n",
       "                        <td id=\"T_9fa530e2_8ed0_11ea_a193_54e1ad8445f9row7_col2\" class=\"data row7 col2\" >4271.0</td>\n",
       "                        <td id=\"T_9fa530e2_8ed0_11ea_a193_54e1ad8445f9row7_col3\" class=\"data row7 col3\" >9580</td>\n",
       "            </tr>\n",
       "            <tr>\n",
       "                        <th id=\"T_9fa530e2_8ed0_11ea_a193_54e1ad8445f9level0_row8\" class=\"row_heading level0 row8\" >8</th>\n",
       "                        <td id=\"T_9fa530e2_8ed0_11ea_a193_54e1ad8445f9row8_col0\" class=\"data row8 col0\" >French Bulldog</td>\n",
       "                        <td id=\"T_9fa530e2_8ed0_11ea_a193_54e1ad8445f9row8_col1\" class=\"data row8 col1\" >26</td>\n",
       "                        <td id=\"T_9fa530e2_8ed0_11ea_a193_54e1ad8445f9row8_col2\" class=\"data row8 col2\" >4198.0</td>\n",
       "                        <td id=\"T_9fa530e2_8ed0_11ea_a193_54e1ad8445f9row8_col3\" class=\"data row8 col3\" >33085</td>\n",
       "            </tr>\n",
       "            <tr>\n",
       "                        <th id=\"T_9fa530e2_8ed0_11ea_a193_54e1ad8445f9level0_row9\" class=\"row_heading level0 row9\" >9</th>\n",
       "                        <td id=\"T_9fa530e2_8ed0_11ea_a193_54e1ad8445f9row9_col0\" class=\"data row9 col0\" >Great Pyrenees</td>\n",
       "                        <td id=\"T_9fa530e2_8ed0_11ea_a193_54e1ad8445f9row9_col1\" class=\"data row9 col1\" >14</td>\n",
       "                        <td id=\"T_9fa530e2_8ed0_11ea_a193_54e1ad8445f9row9_col2\" class=\"data row9 col2\" >4140.0</td>\n",
       "                        <td id=\"T_9fa530e2_8ed0_11ea_a193_54e1ad8445f9row9_col3\" class=\"data row9 col3\" >15349</td>\n",
       "            </tr>\n",
       "    </tbody></table>"
      ],
      "text/plain": [
       "<pandas.io.formats.style.Styler at 0x2be996de1c8>"
      ]
     },
     "execution_count": 5,
     "metadata": {},
     "output_type": "execute_result"
    }
   ],
   "source": [
    "# Most popular dog label by retweet count\n",
    "(df.groupby('prediction').agg(['count', 'mean', 'max'])\n",
    " .loc[:, ['retweet_count']].round()\n",
    " .sort_values(('retweet_count', 'mean'), ascending=False)\n",
    " .reset_index()\n",
    " .head(10)\n",
    " .style.background_gradient())"
   ]
  },
  {
   "cell_type": "code",
   "execution_count": 6,
   "metadata": {},
   "outputs": [
    {
     "data": {
      "text/html": [
       "<style  type=\"text/css\" >\n",
       "    #T_9fb7ce7e_8ed0_11ea_8fb8_54e1ad8445f9row0_col1 {\n",
       "            background-color:  #f2ecf5;\n",
       "            color:  #000000;\n",
       "        }    #T_9fb7ce7e_8ed0_11ea_8fb8_54e1ad8445f9row0_col2 {\n",
       "            background-color:  #023858;\n",
       "            color:  #f1f1f1;\n",
       "        }    #T_9fb7ce7e_8ed0_11ea_8fb8_54e1ad8445f9row0_col3 {\n",
       "            background-color:  #cdd0e5;\n",
       "            color:  #000000;\n",
       "        }    #T_9fb7ce7e_8ed0_11ea_8fb8_54e1ad8445f9row1_col1 {\n",
       "            background-color:  #fff7fb;\n",
       "            color:  #000000;\n",
       "        }    #T_9fb7ce7e_8ed0_11ea_8fb8_54e1ad8445f9row1_col2 {\n",
       "            background-color:  #056caa;\n",
       "            color:  #f1f1f1;\n",
       "        }    #T_9fb7ce7e_8ed0_11ea_8fb8_54e1ad8445f9row1_col3 {\n",
       "            background-color:  #fcf4fa;\n",
       "            color:  #000000;\n",
       "        }    #T_9fb7ce7e_8ed0_11ea_8fb8_54e1ad8445f9row2_col1 {\n",
       "            background-color:  #023858;\n",
       "            color:  #f1f1f1;\n",
       "        }    #T_9fb7ce7e_8ed0_11ea_8fb8_54e1ad8445f9row2_col2 {\n",
       "            background-color:  #b8c6e0;\n",
       "            color:  #000000;\n",
       "        }    #T_9fb7ce7e_8ed0_11ea_8fb8_54e1ad8445f9row2_col3 {\n",
       "            background-color:  #023858;\n",
       "            color:  #f1f1f1;\n",
       "        }    #T_9fb7ce7e_8ed0_11ea_8fb8_54e1ad8445f9row3_col1 {\n",
       "            background-color:  #fff7fb;\n",
       "            color:  #000000;\n",
       "        }    #T_9fb7ce7e_8ed0_11ea_8fb8_54e1ad8445f9row3_col2 {\n",
       "            background-color:  #e5e1ef;\n",
       "            color:  #000000;\n",
       "        }    #T_9fb7ce7e_8ed0_11ea_8fb8_54e1ad8445f9row3_col3 {\n",
       "            background-color:  #f2ecf5;\n",
       "            color:  #000000;\n",
       "        }    #T_9fb7ce7e_8ed0_11ea_8fb8_54e1ad8445f9row4_col1 {\n",
       "            background-color:  #fff7fb;\n",
       "            color:  #000000;\n",
       "        }    #T_9fb7ce7e_8ed0_11ea_8fb8_54e1ad8445f9row4_col2 {\n",
       "            background-color:  #e8e4f0;\n",
       "            color:  #000000;\n",
       "        }    #T_9fb7ce7e_8ed0_11ea_8fb8_54e1ad8445f9row4_col3 {\n",
       "            background-color:  #f2ecf5;\n",
       "            color:  #000000;\n",
       "        }    #T_9fb7ce7e_8ed0_11ea_8fb8_54e1ad8445f9row5_col1 {\n",
       "            background-color:  #d0d1e6;\n",
       "            color:  #000000;\n",
       "        }    #T_9fb7ce7e_8ed0_11ea_8fb8_54e1ad8445f9row5_col2 {\n",
       "            background-color:  #ede7f2;\n",
       "            color:  #000000;\n",
       "        }    #T_9fb7ce7e_8ed0_11ea_8fb8_54e1ad8445f9row5_col3 {\n",
       "            background-color:  #d5d5e8;\n",
       "            color:  #000000;\n",
       "        }    #T_9fb7ce7e_8ed0_11ea_8fb8_54e1ad8445f9row6_col1 {\n",
       "            background-color:  #4a98c5;\n",
       "            color:  #000000;\n",
       "        }    #T_9fb7ce7e_8ed0_11ea_8fb8_54e1ad8445f9row6_col2 {\n",
       "            background-color:  #f5eff6;\n",
       "            color:  #000000;\n",
       "        }    #T_9fb7ce7e_8ed0_11ea_8fb8_54e1ad8445f9row6_col3 {\n",
       "            background-color:  #023a5b;\n",
       "            color:  #f1f1f1;\n",
       "        }    #T_9fb7ce7e_8ed0_11ea_8fb8_54e1ad8445f9row7_col1 {\n",
       "            background-color:  #f9f2f8;\n",
       "            color:  #000000;\n",
       "        }    #T_9fb7ce7e_8ed0_11ea_8fb8_54e1ad8445f9row7_col2 {\n",
       "            background-color:  #f7f0f7;\n",
       "            color:  #000000;\n",
       "        }    #T_9fb7ce7e_8ed0_11ea_8fb8_54e1ad8445f9row7_col3 {\n",
       "            background-color:  #fff7fb;\n",
       "            color:  #000000;\n",
       "        }    #T_9fb7ce7e_8ed0_11ea_8fb8_54e1ad8445f9row8_col1 {\n",
       "            background-color:  #f9f2f8;\n",
       "            color:  #000000;\n",
       "        }    #T_9fb7ce7e_8ed0_11ea_8fb8_54e1ad8445f9row8_col2 {\n",
       "            background-color:  #fdf5fa;\n",
       "            color:  #000000;\n",
       "        }    #T_9fb7ce7e_8ed0_11ea_8fb8_54e1ad8445f9row8_col3 {\n",
       "            background-color:  #f1ebf5;\n",
       "            color:  #000000;\n",
       "        }    #T_9fb7ce7e_8ed0_11ea_8fb8_54e1ad8445f9row9_col1 {\n",
       "            background-color:  #d9d8ea;\n",
       "            color:  #000000;\n",
       "        }    #T_9fb7ce7e_8ed0_11ea_8fb8_54e1ad8445f9row9_col2 {\n",
       "            background-color:  #fff7fb;\n",
       "            color:  #000000;\n",
       "        }    #T_9fb7ce7e_8ed0_11ea_8fb8_54e1ad8445f9row9_col3 {\n",
       "            background-color:  #197db7;\n",
       "            color:  #000000;\n",
       "        }</style><table id=\"T_9fb7ce7e_8ed0_11ea_8fb8_54e1ad8445f9\" ><thead>    <tr>        <th class=\"blank level0\" ></th>        <th class=\"col_heading level0 col0\" >prediction</th>        <th class=\"col_heading level0 col1\" colspan=3>favorite_count</th>    </tr>    <tr>        <th class=\"blank level1\" ></th>        <th class=\"col_heading level1 col0\" ></th>        <th class=\"col_heading level1 col1\" >count</th>        <th class=\"col_heading level1 col2\" >mean</th>        <th class=\"col_heading level1 col3\" >max</th>    </tr></thead><tbody>\n",
       "                <tr>\n",
       "                        <th id=\"T_9fb7ce7e_8ed0_11ea_8fb8_54e1ad8445f9level0_row0\" class=\"row_heading level0 row0\" >0</th>\n",
       "                        <td id=\"T_9fb7ce7e_8ed0_11ea_8fb8_54e1ad8445f9row0_col0\" class=\"data row0 col0\" >Saluki</td>\n",
       "                        <td id=\"T_9fb7ce7e_8ed0_11ea_8fb8_54e1ad8445f9row0_col1\" class=\"data row0 col1\" >4</td>\n",
       "                        <td id=\"T_9fb7ce7e_8ed0_11ea_8fb8_54e1ad8445f9row0_col2\" class=\"data row0 col2\" >22280.0</td>\n",
       "                        <td id=\"T_9fb7ce7e_8ed0_11ea_8fb8_54e1ad8445f9row0_col3\" class=\"data row0 col3\" >47667</td>\n",
       "            </tr>\n",
       "            <tr>\n",
       "                        <th id=\"T_9fb7ce7e_8ed0_11ea_8fb8_54e1ad8445f9level0_row1\" class=\"row_heading level0 row1\" >1</th>\n",
       "                        <td id=\"T_9fb7ce7e_8ed0_11ea_8fb8_54e1ad8445f9row1_col0\" class=\"data row1 col0\" >Afghan Hound</td>\n",
       "                        <td id=\"T_9fb7ce7e_8ed0_11ea_8fb8_54e1ad8445f9row1_col1\" class=\"data row1 col1\" >2</td>\n",
       "                        <td id=\"T_9fb7ce7e_8ed0_11ea_8fb8_54e1ad8445f9row1_col2\" class=\"data row1 col2\" >20530.0</td>\n",
       "                        <td id=\"T_9fb7ce7e_8ed0_11ea_8fb8_54e1ad8445f9row1_col3\" class=\"data row1 col3\" >25216</td>\n",
       "            </tr>\n",
       "            <tr>\n",
       "                        <th id=\"T_9fb7ce7e_8ed0_11ea_8fb8_54e1ad8445f9level0_row2\" class=\"row_heading level0 row2\" >2</th>\n",
       "                        <td id=\"T_9fb7ce7e_8ed0_11ea_8fb8_54e1ad8445f9row2_col0\" class=\"data row2 col0\" >French Bulldog</td>\n",
       "                        <td id=\"T_9fb7ce7e_8ed0_11ea_8fb8_54e1ad8445f9row2_col1\" class=\"data row2 col1\" >26</td>\n",
       "                        <td id=\"T_9fb7ce7e_8ed0_11ea_8fb8_54e1ad8445f9row2_col2\" class=\"data row2 col2\" >17080.0</td>\n",
       "                        <td id=\"T_9fb7ce7e_8ed0_11ea_8fb8_54e1ad8445f9row2_col3\" class=\"data row2 col3\" >116807</td>\n",
       "            </tr>\n",
       "            <tr>\n",
       "                        <th id=\"T_9fb7ce7e_8ed0_11ea_8fb8_54e1ad8445f9level0_row3\" class=\"row_heading level0 row3\" >3</th>\n",
       "                        <td id=\"T_9fb7ce7e_8ed0_11ea_8fb8_54e1ad8445f9row3_col0\" class=\"data row3 col0\" >Giant Schnauzer</td>\n",
       "                        <td id=\"T_9fb7ce7e_8ed0_11ea_8fb8_54e1ad8445f9row3_col1\" class=\"data row3 col1\" >2</td>\n",
       "                        <td id=\"T_9fb7ce7e_8ed0_11ea_8fb8_54e1ad8445f9row3_col2\" class=\"data row3 col2\" >15826.0</td>\n",
       "                        <td id=\"T_9fb7ce7e_8ed0_11ea_8fb8_54e1ad8445f9row3_col3\" class=\"data row3 col3\" >31440</td>\n",
       "            </tr>\n",
       "            <tr>\n",
       "                        <th id=\"T_9fb7ce7e_8ed0_11ea_8fb8_54e1ad8445f9level0_row4\" class=\"row_heading level0 row4\" >4</th>\n",
       "                        <td id=\"T_9fb7ce7e_8ed0_11ea_8fb8_54e1ad8445f9row4_col0\" class=\"data row4 col0\" >Black-And-Tan Coonhound</td>\n",
       "                        <td id=\"T_9fb7ce7e_8ed0_11ea_8fb8_54e1ad8445f9row4_col1\" class=\"data row4 col1\" >2</td>\n",
       "                        <td id=\"T_9fb7ce7e_8ed0_11ea_8fb8_54e1ad8445f9row4_col2\" class=\"data row4 col2\" >15704.0</td>\n",
       "                        <td id=\"T_9fb7ce7e_8ed0_11ea_8fb8_54e1ad8445f9row4_col3\" class=\"data row4 col3\" >31307</td>\n",
       "            </tr>\n",
       "            <tr>\n",
       "                        <th id=\"T_9fb7ce7e_8ed0_11ea_8fb8_54e1ad8445f9level0_row5\" class=\"row_heading level0 row5\" >5</th>\n",
       "                        <td id=\"T_9fb7ce7e_8ed0_11ea_8fb8_54e1ad8445f9row5_col0\" class=\"data row5 col0\" >Flat-Coated Retriever</td>\n",
       "                        <td id=\"T_9fb7ce7e_8ed0_11ea_8fb8_54e1ad8445f9row5_col1\" class=\"data row5 col1\" >8</td>\n",
       "                        <td id=\"T_9fb7ce7e_8ed0_11ea_8fb8_54e1ad8445f9row5_col2\" class=\"data row5 col2\" >15530.0</td>\n",
       "                        <td id=\"T_9fb7ce7e_8ed0_11ea_8fb8_54e1ad8445f9row5_col3\" class=\"data row5 col3\" >44535</td>\n",
       "            </tr>\n",
       "            <tr>\n",
       "                        <th id=\"T_9fb7ce7e_8ed0_11ea_8fb8_54e1ad8445f9level0_row6\" class=\"row_heading level0 row6\" >6</th>\n",
       "                        <td id=\"T_9fb7ce7e_8ed0_11ea_8fb8_54e1ad8445f9row6_col0\" class=\"data row6 col0\" >Eskimo Dog</td>\n",
       "                        <td id=\"T_9fb7ce7e_8ed0_11ea_8fb8_54e1ad8445f9row6_col1\" class=\"data row6 col1\" >16</td>\n",
       "                        <td id=\"T_9fb7ce7e_8ed0_11ea_8fb8_54e1ad8445f9row6_col2\" class=\"data row6 col2\" >15095.0</td>\n",
       "                        <td id=\"T_9fb7ce7e_8ed0_11ea_8fb8_54e1ad8445f9row6_col3\" class=\"data row6 col3\" >115827</td>\n",
       "            </tr>\n",
       "            <tr>\n",
       "                        <th id=\"T_9fb7ce7e_8ed0_11ea_8fb8_54e1ad8445f9level0_row7\" class=\"row_heading level0 row7\" >7</th>\n",
       "                        <td id=\"T_9fb7ce7e_8ed0_11ea_8fb8_54e1ad8445f9row7_col0\" class=\"data row7 col0\" >Irish Water Spaniel</td>\n",
       "                        <td id=\"T_9fb7ce7e_8ed0_11ea_8fb8_54e1ad8445f9row7_col1\" class=\"data row7 col1\" >3</td>\n",
       "                        <td id=\"T_9fb7ce7e_8ed0_11ea_8fb8_54e1ad8445f9row7_col2\" class=\"data row7 col2\" >15039.0</td>\n",
       "                        <td id=\"T_9fb7ce7e_8ed0_11ea_8fb8_54e1ad8445f9row7_col3\" class=\"data row7 col3\" >23247</td>\n",
       "            </tr>\n",
       "            <tr>\n",
       "                        <th id=\"T_9fb7ce7e_8ed0_11ea_8fb8_54e1ad8445f9level0_row8\" class=\"row_heading level0 row8\" >8</th>\n",
       "                        <td id=\"T_9fb7ce7e_8ed0_11ea_8fb8_54e1ad8445f9row8_col0\" class=\"data row8 col0\" >Mexican Hairless</td>\n",
       "                        <td id=\"T_9fb7ce7e_8ed0_11ea_8fb8_54e1ad8445f9row8_col1\" class=\"data row8 col1\" >3</td>\n",
       "                        <td id=\"T_9fb7ce7e_8ed0_11ea_8fb8_54e1ad8445f9row8_col2\" class=\"data row8 col2\" >14705.0</td>\n",
       "                        <td id=\"T_9fb7ce7e_8ed0_11ea_8fb8_54e1ad8445f9row8_col3\" class=\"data row8 col3\" >31662</td>\n",
       "            </tr>\n",
       "            <tr>\n",
       "                        <th id=\"T_9fb7ce7e_8ed0_11ea_8fb8_54e1ad8445f9level0_row9\" class=\"row_heading level0 row9\" >9</th>\n",
       "                        <td id=\"T_9fb7ce7e_8ed0_11ea_8fb8_54e1ad8445f9row9_col0\" class=\"data row9 col0\" >Standard Poodle</td>\n",
       "                        <td id=\"T_9fb7ce7e_8ed0_11ea_8fb8_54e1ad8445f9row9_col1\" class=\"data row9 col1\" >7</td>\n",
       "                        <td id=\"T_9fb7ce7e_8ed0_11ea_8fb8_54e1ad8445f9row9_col2\" class=\"data row9 col2\" >14596.0</td>\n",
       "                        <td id=\"T_9fb7ce7e_8ed0_11ea_8fb8_54e1ad8445f9row9_col3\" class=\"data row9 col3\" >88394</td>\n",
       "            </tr>\n",
       "    </tbody></table>"
      ],
      "text/plain": [
       "<pandas.io.formats.style.Styler at 0x2be9cba8248>"
      ]
     },
     "execution_count": 6,
     "metadata": {},
     "output_type": "execute_result"
    }
   ],
   "source": [
    "# Most popular dog label by favorite count\n",
    "(df.groupby('prediction').agg(['count', 'mean', 'max'])\n",
    " .loc[:, ['favorite_count']].round()\n",
    " .sort_values(('favorite_count', 'mean'), ascending=False)\n",
    " .reset_index()\n",
    " .head(10)\n",
    " .style.background_gradient())"
   ]
  },
  {
   "cell_type": "markdown",
   "metadata": {},
   "source": [
    "## Insights - Most Frequent Dog Breeds Submitted for Rating\n",
    "\n",
    "It must be noted that almost 500 dogs where not categorized correctly by neural network."
   ]
  },
  {
   "cell_type": "code",
   "execution_count": 7,
   "metadata": {},
   "outputs": [
    {
     "data": {
      "text/plain": [
       "<matplotlib.axes._subplots.AxesSubplot at 0x2be9cba8e88>"
      ]
     },
     "execution_count": 7,
     "metadata": {},
     "output_type": "execute_result"
    },
    {
     "data": {
      "image/png": "[encoded data removed]",
      "text/plain": [
       "<Figure size 432x288 with 1 Axes>"
      ]
     },
     "metadata": {
      "needs_background": "light"
     },
     "output_type": "display_data"
    }
   ],
   "source": [
    "df.prediction.value_counts().head(10).plot(kind='bar')"
   ]
  },
  {
   "cell_type": "markdown",
   "metadata": {},
   "source": [
    "## Visualisations"
   ]
  },
  {
   "cell_type": "code",
   "execution_count": 8,
   "metadata": {},
   "outputs": [
    {
     "data": {
      "text/html": [
       "<div>\n",
       "<style scoped>\n",
       "    .dataframe tbody tr th:only-of-type {\n",
       "        vertical-align: middle;\n",
       "    }\n",
       "\n",
       "    .dataframe tbody tr th {\n",
       "        vertical-align: top;\n",
       "    }\n",
       "\n",
       "    .dataframe thead th {\n",
       "        text-align: right;\n",
       "    }\n",
       "</style>\n",
       "<table border=\"1\" class=\"dataframe\">\n",
       "  <thead>\n",
       "    <tr style=\"text-align: right;\">\n",
       "      <th></th>\n",
       "      <th>tweet_id</th>\n",
       "      <th>timestamp</th>\n",
       "      <th>text</th>\n",
       "      <th>expanded_urls</th>\n",
       "      <th>rating_numerator</th>\n",
       "      <th>rating_denominator</th>\n",
       "      <th>name</th>\n",
       "      <th>dog_stage</th>\n",
       "      <th>retweet_count</th>\n",
       "      <th>favorite_count</th>\n",
       "      <th>prediction</th>\n",
       "      <th>jpg_url</th>\n",
       "      <th>img_num</th>\n",
       "    </tr>\n",
       "  </thead>\n",
       "  <tbody>\n",
       "    <tr>\n",
       "      <th>763</th>\n",
       "      <td>744234799360020481</td>\n",
       "      <td>2016-06-18 18:26:18</td>\n",
       "      <td>Here's a doggo realizing you can stand in a po...</td>\n",
       "      <td>https://twitter.com/dog_rates/status/744234799...</td>\n",
       "      <td>13.0</td>\n",
       "      <td>10.0</td>\n",
       "      <td>None</td>\n",
       "      <td>doggo</td>\n",
       "      <td>78154</td>\n",
       "      <td>156838</td>\n",
       "      <td>Labrador Retriever</td>\n",
       "      <td>https://pbs.twimg.com/ext_tw_video_thumb/74423...</td>\n",
       "      <td>1</td>\n",
       "    </tr>\n",
       "  </tbody>\n",
       "</table>\n",
       "</div>"
      ],
      "text/plain": [
       "               tweet_id            timestamp  \\\n",
       "763  744234799360020481  2016-06-18 18:26:18   \n",
       "\n",
       "                                                  text  \\\n",
       "763  Here's a doggo realizing you can stand in a po...   \n",
       "\n",
       "                                         expanded_urls  rating_numerator  \\\n",
       "763  https://twitter.com/dog_rates/status/744234799...              13.0   \n",
       "\n",
       "     rating_denominator  name dog_stage  retweet_count  favorite_count  \\\n",
       "763                10.0  None     doggo          78154          156838   \n",
       "\n",
       "             prediction                                            jpg_url  \\\n",
       "763  Labrador Retriever  https://pbs.twimg.com/ext_tw_video_thumb/74423...   \n",
       "\n",
       "     img_num  \n",
       "763        1  "
      ]
     },
     "execution_count": 8,
     "metadata": {},
     "output_type": "execute_result"
    }
   ],
   "source": [
    "# Load the image of the most popular dog\n",
    "mask_max_fav = df.favorite_count == df.favorite_count.max()\n",
    "mask_max_rt = df.retweet_count == df.retweet_count.max()\n",
    "\n",
    "df.loc[mask_max_rt]"
   ]
  },
  {
   "cell_type": "markdown",
   "metadata": {},
   "source": [
    "### Download images"
   ]
  },
  {
   "cell_type": "code",
   "execution_count": 3,
   "metadata": {},
   "outputs": [],
   "source": [
    "# Create folder for storing images\n",
    "os.makedirs('Images', exist_ok=True)"
   ]
  },
  {
   "cell_type": "code",
   "execution_count": 17,
   "metadata": {},
   "outputs": [
    {
     "data": {
      "text/plain": [
       "0    https://pbs.twimg.com/media/DGKD1-bXoAAIAUK.jpg\n",
       "1    https://pbs.twimg.com/media/DGGmoV4XsAAUL6n.jpg\n",
       "2    https://pbs.twimg.com/media/DGBdLU1WsAANxJ9.jpg\n",
       "3    https://pbs.twimg.com/media/DF_q7IAWsAEuuN8.jpg\n",
       "4    https://pbs.twimg.com/media/DF6hr6BUMAAzZgT.jpg\n",
       "5    https://pbs.twimg.com/media/DF3HwyEWsAABqE6.jpg\n",
       "6    https://pbs.twimg.com/media/DF1eOmZXUAALUcq.jpg\n",
       "7    https://pbs.twimg.com/media/DFyBahAVwAAhUTd.jpg\n",
       "8    https://pbs.twimg.com/media/DFwUU__XcAEpyXI.jpg\n",
       "9    https://pbs.twimg.com/media/DFrEyVuW0AAO3t9.jpg\n",
       "Name: jpg_url, dtype: object"
      ]
     },
     "execution_count": 17,
     "metadata": {},
     "output_type": "execute_result"
    }
   ],
   "source": [
    "jpg_url_list = []\n",
    "#df.sort_values('retweet_count', ascending=False)\n",
    "#df.groupby('dog_stage').mean()['retweet_count'].nlargest(5)\n",
    "jpg_url_list = df.jpg_url[:10]\n",
    "jpg_url_list"
   ]
  },
  {
   "cell_type": "code",
   "execution_count": 20,
   "metadata": {},
   "outputs": [],
   "source": [
    "failed_images_dict = {}\n",
    "start = timer()\n",
    "\n",
    "for i, jpg_url in enumerate(jpg_url_list):\n",
    "    try:\n",
    "        r = requests.get(jpg_url)\n",
    "        # Download and save dog image\n",
    "        img = Image.open(BytesIO(r.content))        \n",
    "        img.save(f'./Images/image_{i}.jpg')\n",
    "        \n",
    "    except Exception as e:\n",
    "        print(e)\n",
    "        failed_images_dict[tweet_id] = e\n",
    "        pass\n",
    "end = timer()\n",
    "\n",
    "print(f'Finished. Total execution time: {round((end - start) / 60, 2)} minutes\\n')"
   ]
  },
  {
   "cell_type": "code",
   "execution_count": null,
   "metadata": {},
   "outputs": [],
   "source": [
    "# Tweet IDs for which to gather additional data\n",
    "tweet_ids = df_archive.tweet_id.values\n",
    "\n",
    "# Query Twitter's API for JSON data for each tweet ID in the Twitter archive\n",
    "count = 0\n",
    "failed_tweets_dict = {}\n",
    "start = timer()\n",
    "\n",
    "# Save each tweet's returned JSON as a new line in a .txt file\n",
    "with open('tweet_json.txt', 'w') as file:\n",
    "    # This loop will likely take 20-30 minutes to run because of Twitter's rate limit\n",
    "    # Rate limits are divided into 15 minute intervals\n",
    "    for tweet_id in tweet_ids:\n",
    "        count += 1\n",
    "        # print(str(count) + \": \" + str(tweet_id))\n",
    "        try:\n",
    "            tweet = api.get_status(tweet_id, tweet_mode='extended')\n",
    "            # print(\"Success\")\n",
    "            json.dump(tweet._json, file)\n",
    "            file.write('\\n')\n",
    "        except tweepy.TweepError as e:\n",
    "            print(f'Tweet id - {tweet_id} - does not exist anymore.\\n')\n",
    "            failed_tweets_dict[tweet_id] = e\n",
    "            pass\n",
    "end = timer()\n",
    "print(f'Finished. Total execution time: {round((end - start) / 60, 2)} minutes\\n')\n",
    "print(f'Number of missing tweets: {len(failed_tweets_dict.items())}\\n')"
   ]
  }
 ],
 "metadata": {
  "kernelspec": {
   "display_name": "Python 3",
   "language": "python",
   "name": "python3"
  },
  "language_info": {
   "codemirror_mode": {
    "name": "ipython",
    "version": 3
   },
   "file_extension": ".py",
   "mimetype": "text/x-python",
   "name": "python",
   "nbconvert_exporter": "python",
   "pygments_lexer": "ipython3",
   "version": "3.7.7"
  }
 },
 "nbformat": 4,
 "nbformat_minor": 4
}
